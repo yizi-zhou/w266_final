{
  "nbformat": 4,
  "nbformat_minor": 0,
  "metadata": {
    "colab": {
      "name": "Liz_Project.ipynb",
      "provenance": [],
      "collapsed_sections": [],
      "toc_visible": true
    },
    "kernelspec": {
      "name": "python3",
      "display_name": "Python 3"
    },
    "language_info": {
      "name": "python"
    },
    "accelerator": "GPU",
    "widgets": {
      "application/vnd.jupyter.widget-state+json": {
        "8a8868ce6a7246ccbb63b3a1268afc7c": {
          "model_module": "@jupyter-widgets/controls",
          "model_name": "HBoxModel",
          "state": {
            "_view_name": "HBoxView",
            "_dom_classes": [],
            "_model_name": "HBoxModel",
            "_view_module": "@jupyter-widgets/controls",
            "_model_module_version": "1.5.0",
            "_view_count": null,
            "_view_module_version": "1.5.0",
            "box_style": "",
            "layout": "IPY_MODEL_179d6d3a4569403daf481c2d7eca825f",
            "_model_module": "@jupyter-widgets/controls",
            "children": [
              "IPY_MODEL_434873da0d124982a33276da322619fb",
              "IPY_MODEL_caf723d7058a4bc2aeaa3da5518ba36f"
            ]
          }
        },
        "179d6d3a4569403daf481c2d7eca825f": {
          "model_module": "@jupyter-widgets/base",
          "model_name": "LayoutModel",
          "state": {
            "_view_name": "LayoutView",
            "grid_template_rows": null,
            "right": null,
            "justify_content": null,
            "_view_module": "@jupyter-widgets/base",
            "overflow": null,
            "_model_module_version": "1.2.0",
            "_view_count": null,
            "flex_flow": null,
            "width": null,
            "min_width": null,
            "border": null,
            "align_items": null,
            "bottom": null,
            "_model_module": "@jupyter-widgets/base",
            "top": null,
            "grid_column": null,
            "overflow_y": null,
            "overflow_x": null,
            "grid_auto_flow": null,
            "grid_area": null,
            "grid_template_columns": null,
            "flex": null,
            "_model_name": "LayoutModel",
            "justify_items": null,
            "grid_row": null,
            "max_height": null,
            "align_content": null,
            "visibility": null,
            "align_self": null,
            "height": null,
            "min_height": null,
            "padding": null,
            "grid_auto_rows": null,
            "grid_gap": null,
            "max_width": null,
            "order": null,
            "_view_module_version": "1.2.0",
            "grid_template_areas": null,
            "object_position": null,
            "object_fit": null,
            "grid_auto_columns": null,
            "margin": null,
            "display": null,
            "left": null
          }
        },
        "434873da0d124982a33276da322619fb": {
          "model_module": "@jupyter-widgets/controls",
          "model_name": "FloatProgressModel",
          "state": {
            "_view_name": "ProgressView",
            "style": "IPY_MODEL_4c9a15976f7240dcabb2e34bc850f89e",
            "_dom_classes": [],
            "description": "100%",
            "_model_name": "FloatProgressModel",
            "bar_style": "success",
            "max": 16979,
            "_view_module": "@jupyter-widgets/controls",
            "_model_module_version": "1.5.0",
            "value": 16979,
            "_view_count": null,
            "_view_module_version": "1.5.0",
            "orientation": "horizontal",
            "min": 0,
            "description_tooltip": null,
            "_model_module": "@jupyter-widgets/controls",
            "layout": "IPY_MODEL_fbdc099b172643508532105afd95c50c"
          }
        },
        "caf723d7058a4bc2aeaa3da5518ba36f": {
          "model_module": "@jupyter-widgets/controls",
          "model_name": "HTMLModel",
          "state": {
            "_view_name": "HTMLView",
            "style": "IPY_MODEL_ccd7404607d34e27a5714ad81758077a",
            "_dom_classes": [],
            "description": "",
            "_model_name": "HTMLModel",
            "placeholder": "​",
            "_view_module": "@jupyter-widgets/controls",
            "_model_module_version": "1.5.0",
            "value": " 16979/16979 [00:28&lt;00:00, 588.85it/s]",
            "_view_count": null,
            "_view_module_version": "1.5.0",
            "description_tooltip": null,
            "_model_module": "@jupyter-widgets/controls",
            "layout": "IPY_MODEL_ee3626e567ed49d298cbc78de9b48877"
          }
        },
        "4c9a15976f7240dcabb2e34bc850f89e": {
          "model_module": "@jupyter-widgets/controls",
          "model_name": "ProgressStyleModel",
          "state": {
            "_view_name": "StyleView",
            "_model_name": "ProgressStyleModel",
            "description_width": "initial",
            "_view_module": "@jupyter-widgets/base",
            "_model_module_version": "1.5.0",
            "_view_count": null,
            "_view_module_version": "1.2.0",
            "bar_color": null,
            "_model_module": "@jupyter-widgets/controls"
          }
        },
        "fbdc099b172643508532105afd95c50c": {
          "model_module": "@jupyter-widgets/base",
          "model_name": "LayoutModel",
          "state": {
            "_view_name": "LayoutView",
            "grid_template_rows": null,
            "right": null,
            "justify_content": null,
            "_view_module": "@jupyter-widgets/base",
            "overflow": null,
            "_model_module_version": "1.2.0",
            "_view_count": null,
            "flex_flow": null,
            "width": null,
            "min_width": null,
            "border": null,
            "align_items": null,
            "bottom": null,
            "_model_module": "@jupyter-widgets/base",
            "top": null,
            "grid_column": null,
            "overflow_y": null,
            "overflow_x": null,
            "grid_auto_flow": null,
            "grid_area": null,
            "grid_template_columns": null,
            "flex": null,
            "_model_name": "LayoutModel",
            "justify_items": null,
            "grid_row": null,
            "max_height": null,
            "align_content": null,
            "visibility": null,
            "align_self": null,
            "height": null,
            "min_height": null,
            "padding": null,
            "grid_auto_rows": null,
            "grid_gap": null,
            "max_width": null,
            "order": null,
            "_view_module_version": "1.2.0",
            "grid_template_areas": null,
            "object_position": null,
            "object_fit": null,
            "grid_auto_columns": null,
            "margin": null,
            "display": null,
            "left": null
          }
        },
        "ccd7404607d34e27a5714ad81758077a": {
          "model_module": "@jupyter-widgets/controls",
          "model_name": "DescriptionStyleModel",
          "state": {
            "_view_name": "StyleView",
            "_model_name": "DescriptionStyleModel",
            "description_width": "",
            "_view_module": "@jupyter-widgets/base",
            "_model_module_version": "1.5.0",
            "_view_count": null,
            "_view_module_version": "1.2.0",
            "_model_module": "@jupyter-widgets/controls"
          }
        },
        "ee3626e567ed49d298cbc78de9b48877": {
          "model_module": "@jupyter-widgets/base",
          "model_name": "LayoutModel",
          "state": {
            "_view_name": "LayoutView",
            "grid_template_rows": null,
            "right": null,
            "justify_content": null,
            "_view_module": "@jupyter-widgets/base",
            "overflow": null,
            "_model_module_version": "1.2.0",
            "_view_count": null,
            "flex_flow": null,
            "width": null,
            "min_width": null,
            "border": null,
            "align_items": null,
            "bottom": null,
            "_model_module": "@jupyter-widgets/base",
            "top": null,
            "grid_column": null,
            "overflow_y": null,
            "overflow_x": null,
            "grid_auto_flow": null,
            "grid_area": null,
            "grid_template_columns": null,
            "flex": null,
            "_model_name": "LayoutModel",
            "justify_items": null,
            "grid_row": null,
            "max_height": null,
            "align_content": null,
            "visibility": null,
            "align_self": null,
            "height": null,
            "min_height": null,
            "padding": null,
            "grid_auto_rows": null,
            "grid_gap": null,
            "max_width": null,
            "order": null,
            "_view_module_version": "1.2.0",
            "grid_template_areas": null,
            "object_position": null,
            "object_fit": null,
            "grid_auto_columns": null,
            "margin": null,
            "display": null,
            "left": null
          }
        },
        "d8a124e01da2457183de44225173f6a5": {
          "model_module": "@jupyter-widgets/controls",
          "model_name": "HBoxModel",
          "state": {
            "_view_name": "HBoxView",
            "_dom_classes": [],
            "_model_name": "HBoxModel",
            "_view_module": "@jupyter-widgets/controls",
            "_model_module_version": "1.5.0",
            "_view_count": null,
            "_view_module_version": "1.5.0",
            "box_style": "",
            "layout": "IPY_MODEL_1021fc3b0c64423c87a53f5ce6e9ece8",
            "_model_module": "@jupyter-widgets/controls",
            "children": [
              "IPY_MODEL_aed429d680c6491ab5b8e340478bbe3c",
              "IPY_MODEL_91436cc855b74f55818420df775c7770"
            ]
          }
        },
        "1021fc3b0c64423c87a53f5ce6e9ece8": {
          "model_module": "@jupyter-widgets/base",
          "model_name": "LayoutModel",
          "state": {
            "_view_name": "LayoutView",
            "grid_template_rows": null,
            "right": null,
            "justify_content": null,
            "_view_module": "@jupyter-widgets/base",
            "overflow": null,
            "_model_module_version": "1.2.0",
            "_view_count": null,
            "flex_flow": null,
            "width": null,
            "min_width": null,
            "border": null,
            "align_items": null,
            "bottom": null,
            "_model_module": "@jupyter-widgets/base",
            "top": null,
            "grid_column": null,
            "overflow_y": null,
            "overflow_x": null,
            "grid_auto_flow": null,
            "grid_area": null,
            "grid_template_columns": null,
            "flex": null,
            "_model_name": "LayoutModel",
            "justify_items": null,
            "grid_row": null,
            "max_height": null,
            "align_content": null,
            "visibility": null,
            "align_self": null,
            "height": null,
            "min_height": null,
            "padding": null,
            "grid_auto_rows": null,
            "grid_gap": null,
            "max_width": null,
            "order": null,
            "_view_module_version": "1.2.0",
            "grid_template_areas": null,
            "object_position": null,
            "object_fit": null,
            "grid_auto_columns": null,
            "margin": null,
            "display": null,
            "left": null
          }
        },
        "aed429d680c6491ab5b8e340478bbe3c": {
          "model_module": "@jupyter-widgets/controls",
          "model_name": "FloatProgressModel",
          "state": {
            "_view_name": "ProgressView",
            "style": "IPY_MODEL_8b310ea7c8be454cb39eb782dae29683",
            "_dom_classes": [],
            "description": "100%",
            "_model_name": "FloatProgressModel",
            "bar_style": "success",
            "max": 4245,
            "_view_module": "@jupyter-widgets/controls",
            "_model_module_version": "1.5.0",
            "value": 4245,
            "_view_count": null,
            "_view_module_version": "1.5.0",
            "orientation": "horizontal",
            "min": 0,
            "description_tooltip": null,
            "_model_module": "@jupyter-widgets/controls",
            "layout": "IPY_MODEL_264982ef6f0d4ce681fab292bf1c8f6b"
          }
        },
        "91436cc855b74f55818420df775c7770": {
          "model_module": "@jupyter-widgets/controls",
          "model_name": "HTMLModel",
          "state": {
            "_view_name": "HTMLView",
            "style": "IPY_MODEL_1193c662936d4834b163e87471aca3ca",
            "_dom_classes": [],
            "description": "",
            "_model_name": "HTMLModel",
            "placeholder": "​",
            "_view_module": "@jupyter-widgets/controls",
            "_model_module_version": "1.5.0",
            "value": " 4245/4245 [00:10&lt;00:00, 398.62it/s]",
            "_view_count": null,
            "_view_module_version": "1.5.0",
            "description_tooltip": null,
            "_model_module": "@jupyter-widgets/controls",
            "layout": "IPY_MODEL_6aa3c9127ad948b38073268f381789d9"
          }
        },
        "8b310ea7c8be454cb39eb782dae29683": {
          "model_module": "@jupyter-widgets/controls",
          "model_name": "ProgressStyleModel",
          "state": {
            "_view_name": "StyleView",
            "_model_name": "ProgressStyleModel",
            "description_width": "initial",
            "_view_module": "@jupyter-widgets/base",
            "_model_module_version": "1.5.0",
            "_view_count": null,
            "_view_module_version": "1.2.0",
            "bar_color": null,
            "_model_module": "@jupyter-widgets/controls"
          }
        },
        "264982ef6f0d4ce681fab292bf1c8f6b": {
          "model_module": "@jupyter-widgets/base",
          "model_name": "LayoutModel",
          "state": {
            "_view_name": "LayoutView",
            "grid_template_rows": null,
            "right": null,
            "justify_content": null,
            "_view_module": "@jupyter-widgets/base",
            "overflow": null,
            "_model_module_version": "1.2.0",
            "_view_count": null,
            "flex_flow": null,
            "width": null,
            "min_width": null,
            "border": null,
            "align_items": null,
            "bottom": null,
            "_model_module": "@jupyter-widgets/base",
            "top": null,
            "grid_column": null,
            "overflow_y": null,
            "overflow_x": null,
            "grid_auto_flow": null,
            "grid_area": null,
            "grid_template_columns": null,
            "flex": null,
            "_model_name": "LayoutModel",
            "justify_items": null,
            "grid_row": null,
            "max_height": null,
            "align_content": null,
            "visibility": null,
            "align_self": null,
            "height": null,
            "min_height": null,
            "padding": null,
            "grid_auto_rows": null,
            "grid_gap": null,
            "max_width": null,
            "order": null,
            "_view_module_version": "1.2.0",
            "grid_template_areas": null,
            "object_position": null,
            "object_fit": null,
            "grid_auto_columns": null,
            "margin": null,
            "display": null,
            "left": null
          }
        },
        "1193c662936d4834b163e87471aca3ca": {
          "model_module": "@jupyter-widgets/controls",
          "model_name": "DescriptionStyleModel",
          "state": {
            "_view_name": "StyleView",
            "_model_name": "DescriptionStyleModel",
            "description_width": "",
            "_view_module": "@jupyter-widgets/base",
            "_model_module_version": "1.5.0",
            "_view_count": null,
            "_view_module_version": "1.2.0",
            "_model_module": "@jupyter-widgets/controls"
          }
        },
        "6aa3c9127ad948b38073268f381789d9": {
          "model_module": "@jupyter-widgets/base",
          "model_name": "LayoutModel",
          "state": {
            "_view_name": "LayoutView",
            "grid_template_rows": null,
            "right": null,
            "justify_content": null,
            "_view_module": "@jupyter-widgets/base",
            "overflow": null,
            "_model_module_version": "1.2.0",
            "_view_count": null,
            "flex_flow": null,
            "width": null,
            "min_width": null,
            "border": null,
            "align_items": null,
            "bottom": null,
            "_model_module": "@jupyter-widgets/base",
            "top": null,
            "grid_column": null,
            "overflow_y": null,
            "overflow_x": null,
            "grid_auto_flow": null,
            "grid_area": null,
            "grid_template_columns": null,
            "flex": null,
            "_model_name": "LayoutModel",
            "justify_items": null,
            "grid_row": null,
            "max_height": null,
            "align_content": null,
            "visibility": null,
            "align_self": null,
            "height": null,
            "min_height": null,
            "padding": null,
            "grid_auto_rows": null,
            "grid_gap": null,
            "max_width": null,
            "order": null,
            "_view_module_version": "1.2.0",
            "grid_template_areas": null,
            "object_position": null,
            "object_fit": null,
            "grid_auto_columns": null,
            "margin": null,
            "display": null,
            "left": null
          }
        },
        "543799e4f433452cace850ddea1533c8": {
          "model_module": "@jupyter-widgets/controls",
          "model_name": "HBoxModel",
          "state": {
            "_view_name": "HBoxView",
            "_dom_classes": [],
            "_model_name": "HBoxModel",
            "_view_module": "@jupyter-widgets/controls",
            "_model_module_version": "1.5.0",
            "_view_count": null,
            "_view_module_version": "1.5.0",
            "box_style": "",
            "layout": "IPY_MODEL_75d7ec3f872e47b7bd808ef05a77a727",
            "_model_module": "@jupyter-widgets/controls",
            "children": [
              "IPY_MODEL_fb1298a099e0455184731c1595e408c5",
              "IPY_MODEL_da8e8c9ab4f6479e81d7dbe82e45e7cc"
            ]
          }
        },
        "75d7ec3f872e47b7bd808ef05a77a727": {
          "model_module": "@jupyter-widgets/base",
          "model_name": "LayoutModel",
          "state": {
            "_view_name": "LayoutView",
            "grid_template_rows": null,
            "right": null,
            "justify_content": null,
            "_view_module": "@jupyter-widgets/base",
            "overflow": null,
            "_model_module_version": "1.2.0",
            "_view_count": null,
            "flex_flow": null,
            "width": null,
            "min_width": null,
            "border": null,
            "align_items": null,
            "bottom": null,
            "_model_module": "@jupyter-widgets/base",
            "top": null,
            "grid_column": null,
            "overflow_y": null,
            "overflow_x": null,
            "grid_auto_flow": null,
            "grid_area": null,
            "grid_template_columns": null,
            "flex": null,
            "_model_name": "LayoutModel",
            "justify_items": null,
            "grid_row": null,
            "max_height": null,
            "align_content": null,
            "visibility": null,
            "align_self": null,
            "height": null,
            "min_height": null,
            "padding": null,
            "grid_auto_rows": null,
            "grid_gap": null,
            "max_width": null,
            "order": null,
            "_view_module_version": "1.2.0",
            "grid_template_areas": null,
            "object_position": null,
            "object_fit": null,
            "grid_auto_columns": null,
            "margin": null,
            "display": null,
            "left": null
          }
        },
        "fb1298a099e0455184731c1595e408c5": {
          "model_module": "@jupyter-widgets/controls",
          "model_name": "FloatProgressModel",
          "state": {
            "_view_name": "ProgressView",
            "style": "IPY_MODEL_090eb3756d2542a6bb96ee959b8a6c13",
            "_dom_classes": [],
            "description": "100%",
            "_model_name": "FloatProgressModel",
            "bar_style": "success",
            "max": 16979,
            "_view_module": "@jupyter-widgets/controls",
            "_model_module_version": "1.5.0",
            "value": 16979,
            "_view_count": null,
            "_view_module_version": "1.5.0",
            "orientation": "horizontal",
            "min": 0,
            "description_tooltip": null,
            "_model_module": "@jupyter-widgets/controls",
            "layout": "IPY_MODEL_70693009448c420da4f6d1ee6ebe4f7c"
          }
        },
        "da8e8c9ab4f6479e81d7dbe82e45e7cc": {
          "model_module": "@jupyter-widgets/controls",
          "model_name": "HTMLModel",
          "state": {
            "_view_name": "HTMLView",
            "style": "IPY_MODEL_0f0f89842f3245ef8b0dc3241a93b868",
            "_dom_classes": [],
            "description": "",
            "_model_name": "HTMLModel",
            "placeholder": "​",
            "_view_module": "@jupyter-widgets/controls",
            "_model_module_version": "1.5.0",
            "value": " 16979/16979 [04:05&lt;00:00, 69.03it/s]",
            "_view_count": null,
            "_view_module_version": "1.5.0",
            "description_tooltip": null,
            "_model_module": "@jupyter-widgets/controls",
            "layout": "IPY_MODEL_d4098486f0774186beb26dd63ce56945"
          }
        },
        "090eb3756d2542a6bb96ee959b8a6c13": {
          "model_module": "@jupyter-widgets/controls",
          "model_name": "ProgressStyleModel",
          "state": {
            "_view_name": "StyleView",
            "_model_name": "ProgressStyleModel",
            "description_width": "initial",
            "_view_module": "@jupyter-widgets/base",
            "_model_module_version": "1.5.0",
            "_view_count": null,
            "_view_module_version": "1.2.0",
            "bar_color": null,
            "_model_module": "@jupyter-widgets/controls"
          }
        },
        "70693009448c420da4f6d1ee6ebe4f7c": {
          "model_module": "@jupyter-widgets/base",
          "model_name": "LayoutModel",
          "state": {
            "_view_name": "LayoutView",
            "grid_template_rows": null,
            "right": null,
            "justify_content": null,
            "_view_module": "@jupyter-widgets/base",
            "overflow": null,
            "_model_module_version": "1.2.0",
            "_view_count": null,
            "flex_flow": null,
            "width": null,
            "min_width": null,
            "border": null,
            "align_items": null,
            "bottom": null,
            "_model_module": "@jupyter-widgets/base",
            "top": null,
            "grid_column": null,
            "overflow_y": null,
            "overflow_x": null,
            "grid_auto_flow": null,
            "grid_area": null,
            "grid_template_columns": null,
            "flex": null,
            "_model_name": "LayoutModel",
            "justify_items": null,
            "grid_row": null,
            "max_height": null,
            "align_content": null,
            "visibility": null,
            "align_self": null,
            "height": null,
            "min_height": null,
            "padding": null,
            "grid_auto_rows": null,
            "grid_gap": null,
            "max_width": null,
            "order": null,
            "_view_module_version": "1.2.0",
            "grid_template_areas": null,
            "object_position": null,
            "object_fit": null,
            "grid_auto_columns": null,
            "margin": null,
            "display": null,
            "left": null
          }
        },
        "0f0f89842f3245ef8b0dc3241a93b868": {
          "model_module": "@jupyter-widgets/controls",
          "model_name": "DescriptionStyleModel",
          "state": {
            "_view_name": "StyleView",
            "_model_name": "DescriptionStyleModel",
            "description_width": "",
            "_view_module": "@jupyter-widgets/base",
            "_model_module_version": "1.5.0",
            "_view_count": null,
            "_view_module_version": "1.2.0",
            "_model_module": "@jupyter-widgets/controls"
          }
        },
        "d4098486f0774186beb26dd63ce56945": {
          "model_module": "@jupyter-widgets/base",
          "model_name": "LayoutModel",
          "state": {
            "_view_name": "LayoutView",
            "grid_template_rows": null,
            "right": null,
            "justify_content": null,
            "_view_module": "@jupyter-widgets/base",
            "overflow": null,
            "_model_module_version": "1.2.0",
            "_view_count": null,
            "flex_flow": null,
            "width": null,
            "min_width": null,
            "border": null,
            "align_items": null,
            "bottom": null,
            "_model_module": "@jupyter-widgets/base",
            "top": null,
            "grid_column": null,
            "overflow_y": null,
            "overflow_x": null,
            "grid_auto_flow": null,
            "grid_area": null,
            "grid_template_columns": null,
            "flex": null,
            "_model_name": "LayoutModel",
            "justify_items": null,
            "grid_row": null,
            "max_height": null,
            "align_content": null,
            "visibility": null,
            "align_self": null,
            "height": null,
            "min_height": null,
            "padding": null,
            "grid_auto_rows": null,
            "grid_gap": null,
            "max_width": null,
            "order": null,
            "_view_module_version": "1.2.0",
            "grid_template_areas": null,
            "object_position": null,
            "object_fit": null,
            "grid_auto_columns": null,
            "margin": null,
            "display": null,
            "left": null
          }
        },
        "9e44d00ca81f4d96976419c68853e6bb": {
          "model_module": "@jupyter-widgets/controls",
          "model_name": "HBoxModel",
          "state": {
            "_view_name": "HBoxView",
            "_dom_classes": [],
            "_model_name": "HBoxModel",
            "_view_module": "@jupyter-widgets/controls",
            "_model_module_version": "1.5.0",
            "_view_count": null,
            "_view_module_version": "1.5.0",
            "box_style": "",
            "layout": "IPY_MODEL_ab92fe89a31d463899c3e5844816955e",
            "_model_module": "@jupyter-widgets/controls",
            "children": [
              "IPY_MODEL_f3d256f017bc478892a458c29b94febb",
              "IPY_MODEL_b4773716621143c28dae16f81397e488"
            ]
          }
        },
        "ab92fe89a31d463899c3e5844816955e": {
          "model_module": "@jupyter-widgets/base",
          "model_name": "LayoutModel",
          "state": {
            "_view_name": "LayoutView",
            "grid_template_rows": null,
            "right": null,
            "justify_content": null,
            "_view_module": "@jupyter-widgets/base",
            "overflow": null,
            "_model_module_version": "1.2.0",
            "_view_count": null,
            "flex_flow": null,
            "width": null,
            "min_width": null,
            "border": null,
            "align_items": null,
            "bottom": null,
            "_model_module": "@jupyter-widgets/base",
            "top": null,
            "grid_column": null,
            "overflow_y": null,
            "overflow_x": null,
            "grid_auto_flow": null,
            "grid_area": null,
            "grid_template_columns": null,
            "flex": null,
            "_model_name": "LayoutModel",
            "justify_items": null,
            "grid_row": null,
            "max_height": null,
            "align_content": null,
            "visibility": null,
            "align_self": null,
            "height": null,
            "min_height": null,
            "padding": null,
            "grid_auto_rows": null,
            "grid_gap": null,
            "max_width": null,
            "order": null,
            "_view_module_version": "1.2.0",
            "grid_template_areas": null,
            "object_position": null,
            "object_fit": null,
            "grid_auto_columns": null,
            "margin": null,
            "display": null,
            "left": null
          }
        },
        "f3d256f017bc478892a458c29b94febb": {
          "model_module": "@jupyter-widgets/controls",
          "model_name": "FloatProgressModel",
          "state": {
            "_view_name": "ProgressView",
            "style": "IPY_MODEL_1b82f31d9baf4362b45e8309cce0ea8d",
            "_dom_classes": [],
            "description": "100%",
            "_model_name": "FloatProgressModel",
            "bar_style": "success",
            "max": 4245,
            "_view_module": "@jupyter-widgets/controls",
            "_model_module_version": "1.5.0",
            "value": 4245,
            "_view_count": null,
            "_view_module_version": "1.5.0",
            "orientation": "horizontal",
            "min": 0,
            "description_tooltip": null,
            "_model_module": "@jupyter-widgets/controls",
            "layout": "IPY_MODEL_94e892cf482c4e139dae2962e01673f0"
          }
        },
        "b4773716621143c28dae16f81397e488": {
          "model_module": "@jupyter-widgets/controls",
          "model_name": "HTMLModel",
          "state": {
            "_view_name": "HTMLView",
            "style": "IPY_MODEL_bfff864ae5a74d8ca6dc6d85c9974037",
            "_dom_classes": [],
            "description": "",
            "_model_name": "HTMLModel",
            "placeholder": "​",
            "_view_module": "@jupyter-widgets/controls",
            "_model_module_version": "1.5.0",
            "value": " 4245/4245 [04:00&lt;00:00, 17.62it/s]",
            "_view_count": null,
            "_view_module_version": "1.5.0",
            "description_tooltip": null,
            "_model_module": "@jupyter-widgets/controls",
            "layout": "IPY_MODEL_fe5679deb758487283d8e036bb8c9646"
          }
        },
        "1b82f31d9baf4362b45e8309cce0ea8d": {
          "model_module": "@jupyter-widgets/controls",
          "model_name": "ProgressStyleModel",
          "state": {
            "_view_name": "StyleView",
            "_model_name": "ProgressStyleModel",
            "description_width": "initial",
            "_view_module": "@jupyter-widgets/base",
            "_model_module_version": "1.5.0",
            "_view_count": null,
            "_view_module_version": "1.2.0",
            "bar_color": null,
            "_model_module": "@jupyter-widgets/controls"
          }
        },
        "94e892cf482c4e139dae2962e01673f0": {
          "model_module": "@jupyter-widgets/base",
          "model_name": "LayoutModel",
          "state": {
            "_view_name": "LayoutView",
            "grid_template_rows": null,
            "right": null,
            "justify_content": null,
            "_view_module": "@jupyter-widgets/base",
            "overflow": null,
            "_model_module_version": "1.2.0",
            "_view_count": null,
            "flex_flow": null,
            "width": null,
            "min_width": null,
            "border": null,
            "align_items": null,
            "bottom": null,
            "_model_module": "@jupyter-widgets/base",
            "top": null,
            "grid_column": null,
            "overflow_y": null,
            "overflow_x": null,
            "grid_auto_flow": null,
            "grid_area": null,
            "grid_template_columns": null,
            "flex": null,
            "_model_name": "LayoutModel",
            "justify_items": null,
            "grid_row": null,
            "max_height": null,
            "align_content": null,
            "visibility": null,
            "align_self": null,
            "height": null,
            "min_height": null,
            "padding": null,
            "grid_auto_rows": null,
            "grid_gap": null,
            "max_width": null,
            "order": null,
            "_view_module_version": "1.2.0",
            "grid_template_areas": null,
            "object_position": null,
            "object_fit": null,
            "grid_auto_columns": null,
            "margin": null,
            "display": null,
            "left": null
          }
        },
        "bfff864ae5a74d8ca6dc6d85c9974037": {
          "model_module": "@jupyter-widgets/controls",
          "model_name": "DescriptionStyleModel",
          "state": {
            "_view_name": "StyleView",
            "_model_name": "DescriptionStyleModel",
            "description_width": "",
            "_view_module": "@jupyter-widgets/base",
            "_model_module_version": "1.5.0",
            "_view_count": null,
            "_view_module_version": "1.2.0",
            "_model_module": "@jupyter-widgets/controls"
          }
        },
        "fe5679deb758487283d8e036bb8c9646": {
          "model_module": "@jupyter-widgets/base",
          "model_name": "LayoutModel",
          "state": {
            "_view_name": "LayoutView",
            "grid_template_rows": null,
            "right": null,
            "justify_content": null,
            "_view_module": "@jupyter-widgets/base",
            "overflow": null,
            "_model_module_version": "1.2.0",
            "_view_count": null,
            "flex_flow": null,
            "width": null,
            "min_width": null,
            "border": null,
            "align_items": null,
            "bottom": null,
            "_model_module": "@jupyter-widgets/base",
            "top": null,
            "grid_column": null,
            "overflow_y": null,
            "overflow_x": null,
            "grid_auto_flow": null,
            "grid_area": null,
            "grid_template_columns": null,
            "flex": null,
            "_model_name": "LayoutModel",
            "justify_items": null,
            "grid_row": null,
            "max_height": null,
            "align_content": null,
            "visibility": null,
            "align_self": null,
            "height": null,
            "min_height": null,
            "padding": null,
            "grid_auto_rows": null,
            "grid_gap": null,
            "max_width": null,
            "order": null,
            "_view_module_version": "1.2.0",
            "grid_template_areas": null,
            "object_position": null,
            "object_fit": null,
            "grid_auto_columns": null,
            "margin": null,
            "display": null,
            "left": null
          }
        }
      }
    }
  },
  "cells": [
    {
      "cell_type": "markdown",
      "metadata": {
        "id": "pkq1d6k45bGr"
      },
      "source": [
        "# **Process**\n",
        "**Step1：Read and analyze data**\n",
        "\n",
        "1.1.   Read cat's eyes data and classify with its polorization: 1-2stars as negative，4-5stars as positive，remove 3 stars review. (pandas)\n",
        "\n",
        "1.2.   Because our reviews have 200k+ which is really big, and within the reviews, there are more posotive reveiws than negative reviews. So we use randomization to balance the amount of reviews. And we only keep the useful information like the stars and reviews. (pandas, sklearn)\n",
        "\n",
        "**step2: Data preprocessing**\n",
        "\n",
        "2.1.   Using NLP to clean the reviews by removing the stopwords and punctuations， here we use Harbin Institute of Technolodgy's stopwords. Using NLP segmentation to convert text to essential words, and here we use Chinese segmentation tool called Jieba. \n",
        "\n",
        ">a. Remove the punctuations\n",
        "\n",
        ">b. Use Jieba to segment the text \n",
        "\n",
        ">c. Remove the phrases if they displayed in the stopwords list\n",
        "\n",
        "2.2 Using two tokenization tool to vectorize the keywords. Our goal is to find out which method can use the least tokens to represnt the most comments.\n",
        "\n",
        ">a. Use tensorflow.keras tokenizer to tokenize the dataset \n",
        "\n",
        ">b. Use Chinese Word Vector to tokenize the keywords. Here we use gensim. \n",
        "\n",
        "2.3 Convert to one-hot encoding format， \n",
        "\n",
        "**step3: Modeling**\n",
        "\n",
        "3.1 We use 3 models, they are \n",
        "\n",
        ">a. Fully-connected network \n",
        "\n",
        ">b. RNN\n",
        "\n",
        ">c. CNN\n",
        "\n",
        "and we use word embeddings to improve the accuracy \n",
        "\n",
        "3.2 Compare and contrast RNN, CNN, multiwindow and two vectorization methods. \n",
        "\n"
      ]
    },
    {
      "cell_type": "markdown",
      "metadata": {
        "id": "posMC6N8hA0r"
      },
      "source": [
        "# I. read data and check data"
      ]
    },
    {
      "cell_type": "code",
      "metadata": {
        "id": "kB1gg3KLdmdI"
      },
      "source": [
        "#_*_coding=utf-8_*_\n",
        "from plotnine import *\n",
        "import pandas as pd\n",
        "import numpy as np\n",
        "%matplotlib inline\n",
        "import os,re,time,random,matplotlib\n",
        "import matplotlib.pyplot as plt\n",
        "from tqdm import tqdm_notebook\n",
        "import jieba #分词\n",
        "from collections import Counter\n",
        "import warnings\n",
        "warnings.filterwarnings(\"ignore\")"
      ],
      "execution_count": null,
      "outputs": []
    },
    {
      "cell_type": "code",
      "metadata": {
        "colab": {
          "base_uri": "https://localhost:8080/",
          "height": 528
        },
        "id": "q-KHFfqtfFaA",
        "outputId": "7ee8010d-67a8-4773-c207-d3b7829158c2"
      },
      "source": [
        "#Read data\n",
        "from google.colab import drive\n",
        "drive.mount('/content/gdrive')\n",
        "#os.listdir()\n",
        "\n",
        "data=pd.read_csv('gdrive/MyDrive/ColabNotebooks/DMSC.csv', index_col=0)\n",
        "# dataset looks like this, it contains 9 column, we are interested in Commnet and Star\n",
        "data.info()\n",
        "data.groupby(\"Star\").size().plot(kind=\"bar\")\n"
      ],
      "execution_count": null,
      "outputs": [
        {
          "output_type": "error",
          "ename": "KeyboardInterrupt",
          "evalue": "ignored",
          "traceback": [
            "\u001b[0;31m---------------------------------------------------------------------------\u001b[0m",
            "\u001b[0;31mKeyboardInterrupt\u001b[0m                         Traceback (most recent call last)",
            "\u001b[0;32m/usr/local/lib/python3.7/dist-packages/ipykernel/kernelbase.py\u001b[0m in \u001b[0;36m_input_request\u001b[0;34m(self, prompt, ident, parent, password)\u001b[0m\n\u001b[1;32m    728\u001b[0m             \u001b[0;32mtry\u001b[0m\u001b[0;34m:\u001b[0m\u001b[0;34m\u001b[0m\u001b[0;34m\u001b[0m\u001b[0m\n\u001b[0;32m--> 729\u001b[0;31m                 \u001b[0mident\u001b[0m\u001b[0;34m,\u001b[0m \u001b[0mreply\u001b[0m \u001b[0;34m=\u001b[0m \u001b[0mself\u001b[0m\u001b[0;34m.\u001b[0m\u001b[0msession\u001b[0m\u001b[0;34m.\u001b[0m\u001b[0mrecv\u001b[0m\u001b[0;34m(\u001b[0m\u001b[0mself\u001b[0m\u001b[0;34m.\u001b[0m\u001b[0mstdin_socket\u001b[0m\u001b[0;34m,\u001b[0m \u001b[0;36m0\u001b[0m\u001b[0;34m)\u001b[0m\u001b[0;34m\u001b[0m\u001b[0;34m\u001b[0m\u001b[0m\n\u001b[0m\u001b[1;32m    730\u001b[0m             \u001b[0;32mexcept\u001b[0m \u001b[0mException\u001b[0m\u001b[0;34m:\u001b[0m\u001b[0;34m\u001b[0m\u001b[0;34m\u001b[0m\u001b[0m\n",
            "\u001b[0;32m/usr/local/lib/python3.7/dist-packages/jupyter_client/session.py\u001b[0m in \u001b[0;36mrecv\u001b[0;34m(self, socket, mode, content, copy)\u001b[0m\n\u001b[1;32m    802\u001b[0m         \u001b[0;32mtry\u001b[0m\u001b[0;34m:\u001b[0m\u001b[0;34m\u001b[0m\u001b[0;34m\u001b[0m\u001b[0m\n\u001b[0;32m--> 803\u001b[0;31m             \u001b[0mmsg_list\u001b[0m \u001b[0;34m=\u001b[0m \u001b[0msocket\u001b[0m\u001b[0;34m.\u001b[0m\u001b[0mrecv_multipart\u001b[0m\u001b[0;34m(\u001b[0m\u001b[0mmode\u001b[0m\u001b[0;34m,\u001b[0m \u001b[0mcopy\u001b[0m\u001b[0;34m=\u001b[0m\u001b[0mcopy\u001b[0m\u001b[0;34m)\u001b[0m\u001b[0;34m\u001b[0m\u001b[0;34m\u001b[0m\u001b[0m\n\u001b[0m\u001b[1;32m    804\u001b[0m         \u001b[0;32mexcept\u001b[0m \u001b[0mzmq\u001b[0m\u001b[0;34m.\u001b[0m\u001b[0mZMQError\u001b[0m \u001b[0;32mas\u001b[0m \u001b[0me\u001b[0m\u001b[0;34m:\u001b[0m\u001b[0;34m\u001b[0m\u001b[0;34m\u001b[0m\u001b[0m\n",
            "\u001b[0;32m/usr/local/lib/python3.7/dist-packages/zmq/sugar/socket.py\u001b[0m in \u001b[0;36mrecv_multipart\u001b[0;34m(self, flags, copy, track)\u001b[0m\n\u001b[1;32m    582\u001b[0m         \"\"\"\n\u001b[0;32m--> 583\u001b[0;31m         \u001b[0mparts\u001b[0m \u001b[0;34m=\u001b[0m \u001b[0;34m[\u001b[0m\u001b[0mself\u001b[0m\u001b[0;34m.\u001b[0m\u001b[0mrecv\u001b[0m\u001b[0;34m(\u001b[0m\u001b[0mflags\u001b[0m\u001b[0;34m,\u001b[0m \u001b[0mcopy\u001b[0m\u001b[0;34m=\u001b[0m\u001b[0mcopy\u001b[0m\u001b[0;34m,\u001b[0m \u001b[0mtrack\u001b[0m\u001b[0;34m=\u001b[0m\u001b[0mtrack\u001b[0m\u001b[0;34m)\u001b[0m\u001b[0;34m]\u001b[0m\u001b[0;34m\u001b[0m\u001b[0;34m\u001b[0m\u001b[0m\n\u001b[0m\u001b[1;32m    584\u001b[0m         \u001b[0;31m# have first part already, only loop while more to receive\u001b[0m\u001b[0;34m\u001b[0m\u001b[0;34m\u001b[0m\u001b[0;34m\u001b[0m\u001b[0m\n",
            "\u001b[0;32mzmq/backend/cython/socket.pyx\u001b[0m in \u001b[0;36mzmq.backend.cython.socket.Socket.recv\u001b[0;34m()\u001b[0m\n",
            "\u001b[0;32mzmq/backend/cython/socket.pyx\u001b[0m in \u001b[0;36mzmq.backend.cython.socket.Socket.recv\u001b[0;34m()\u001b[0m\n",
            "\u001b[0;32mzmq/backend/cython/socket.pyx\u001b[0m in \u001b[0;36mzmq.backend.cython.socket._recv_copy\u001b[0;34m()\u001b[0m\n",
            "\u001b[0;32m/usr/local/lib/python3.7/dist-packages/zmq/backend/cython/checkrc.pxd\u001b[0m in \u001b[0;36mzmq.backend.cython.checkrc._check_rc\u001b[0;34m()\u001b[0m\n",
            "\u001b[0;31mKeyboardInterrupt\u001b[0m: ",
            "\nDuring handling of the above exception, another exception occurred:\n",
            "\u001b[0;31mKeyboardInterrupt\u001b[0m                         Traceback (most recent call last)",
            "\u001b[0;32m<ipython-input-4-ac3f5e0a8f59>\u001b[0m in \u001b[0;36m<module>\u001b[0;34m()\u001b[0m\n\u001b[1;32m      1\u001b[0m \u001b[0;31m#Read data\u001b[0m\u001b[0;34m\u001b[0m\u001b[0;34m\u001b[0m\u001b[0;34m\u001b[0m\u001b[0m\n\u001b[1;32m      2\u001b[0m \u001b[0;32mfrom\u001b[0m \u001b[0mgoogle\u001b[0m\u001b[0;34m.\u001b[0m\u001b[0mcolab\u001b[0m \u001b[0;32mimport\u001b[0m \u001b[0mdrive\u001b[0m\u001b[0;34m\u001b[0m\u001b[0;34m\u001b[0m\u001b[0m\n\u001b[0;32m----> 3\u001b[0;31m \u001b[0mdrive\u001b[0m\u001b[0;34m.\u001b[0m\u001b[0mmount\u001b[0m\u001b[0;34m(\u001b[0m\u001b[0;34m'/content/gdrive'\u001b[0m\u001b[0;34m)\u001b[0m\u001b[0;34m\u001b[0m\u001b[0;34m\u001b[0m\u001b[0m\n\u001b[0m\u001b[1;32m      4\u001b[0m \u001b[0;31m#os.listdir()\u001b[0m\u001b[0;34m\u001b[0m\u001b[0;34m\u001b[0m\u001b[0;34m\u001b[0m\u001b[0m\n\u001b[1;32m      5\u001b[0m \u001b[0;34m\u001b[0m\u001b[0m\n",
            "\u001b[0;32m/usr/local/lib/python3.7/dist-packages/google/colab/drive.py\u001b[0m in \u001b[0;36mmount\u001b[0;34m(mountpoint, force_remount, timeout_ms, use_metadata_server)\u001b[0m\n\u001b[1;32m    258\u001b[0m       \u001b[0;32mwith\u001b[0m \u001b[0m_output\u001b[0m\u001b[0;34m.\u001b[0m\u001b[0muse_tags\u001b[0m\u001b[0;34m(\u001b[0m\u001b[0;34m'dfs-auth-dance'\u001b[0m\u001b[0;34m)\u001b[0m\u001b[0;34m:\u001b[0m\u001b[0;34m\u001b[0m\u001b[0;34m\u001b[0m\u001b[0m\n\u001b[1;32m    259\u001b[0m         \u001b[0;32mwith\u001b[0m \u001b[0mopen\u001b[0m\u001b[0;34m(\u001b[0m\u001b[0mfifo\u001b[0m\u001b[0;34m,\u001b[0m \u001b[0;34m'w'\u001b[0m\u001b[0;34m)\u001b[0m \u001b[0;32mas\u001b[0m \u001b[0mfifo_file\u001b[0m\u001b[0;34m:\u001b[0m\u001b[0;34m\u001b[0m\u001b[0;34m\u001b[0m\u001b[0m\n\u001b[0;32m--> 260\u001b[0;31m           \u001b[0mfifo_file\u001b[0m\u001b[0;34m.\u001b[0m\u001b[0mwrite\u001b[0m\u001b[0;34m(\u001b[0m\u001b[0mget_code\u001b[0m\u001b[0;34m(\u001b[0m\u001b[0mauth_prompt\u001b[0m\u001b[0;34m)\u001b[0m \u001b[0;34m+\u001b[0m \u001b[0;34m'\\n'\u001b[0m\u001b[0;34m)\u001b[0m\u001b[0;34m\u001b[0m\u001b[0;34m\u001b[0m\u001b[0m\n\u001b[0m\u001b[1;32m    261\u001b[0m       \u001b[0mwrote_to_fifo\u001b[0m \u001b[0;34m=\u001b[0m \u001b[0;32mTrue\u001b[0m\u001b[0;34m\u001b[0m\u001b[0;34m\u001b[0m\u001b[0m\n\u001b[1;32m    262\u001b[0m     \u001b[0;32melif\u001b[0m \u001b[0mcase\u001b[0m \u001b[0;34m==\u001b[0m \u001b[0;36m5\u001b[0m\u001b[0;34m:\u001b[0m\u001b[0;34m\u001b[0m\u001b[0;34m\u001b[0m\u001b[0m\n",
            "\u001b[0;32m/usr/local/lib/python3.7/dist-packages/ipykernel/kernelbase.py\u001b[0m in \u001b[0;36mraw_input\u001b[0;34m(self, prompt)\u001b[0m\n\u001b[1;32m    702\u001b[0m             \u001b[0mself\u001b[0m\u001b[0;34m.\u001b[0m\u001b[0m_parent_ident\u001b[0m\u001b[0;34m,\u001b[0m\u001b[0;34m\u001b[0m\u001b[0;34m\u001b[0m\u001b[0m\n\u001b[1;32m    703\u001b[0m             \u001b[0mself\u001b[0m\u001b[0;34m.\u001b[0m\u001b[0m_parent_header\u001b[0m\u001b[0;34m,\u001b[0m\u001b[0;34m\u001b[0m\u001b[0;34m\u001b[0m\u001b[0m\n\u001b[0;32m--> 704\u001b[0;31m             \u001b[0mpassword\u001b[0m\u001b[0;34m=\u001b[0m\u001b[0;32mFalse\u001b[0m\u001b[0;34m,\u001b[0m\u001b[0;34m\u001b[0m\u001b[0;34m\u001b[0m\u001b[0m\n\u001b[0m\u001b[1;32m    705\u001b[0m         )\n\u001b[1;32m    706\u001b[0m \u001b[0;34m\u001b[0m\u001b[0m\n",
            "\u001b[0;32m/usr/local/lib/python3.7/dist-packages/ipykernel/kernelbase.py\u001b[0m in \u001b[0;36m_input_request\u001b[0;34m(self, prompt, ident, parent, password)\u001b[0m\n\u001b[1;32m    732\u001b[0m             \u001b[0;32mexcept\u001b[0m \u001b[0mKeyboardInterrupt\u001b[0m\u001b[0;34m:\u001b[0m\u001b[0;34m\u001b[0m\u001b[0;34m\u001b[0m\u001b[0m\n\u001b[1;32m    733\u001b[0m                 \u001b[0;31m# re-raise KeyboardInterrupt, to truncate traceback\u001b[0m\u001b[0;34m\u001b[0m\u001b[0;34m\u001b[0m\u001b[0;34m\u001b[0m\u001b[0m\n\u001b[0;32m--> 734\u001b[0;31m                 \u001b[0;32mraise\u001b[0m \u001b[0mKeyboardInterrupt\u001b[0m\u001b[0;34m\u001b[0m\u001b[0;34m\u001b[0m\u001b[0m\n\u001b[0m\u001b[1;32m    735\u001b[0m             \u001b[0;32melse\u001b[0m\u001b[0;34m:\u001b[0m\u001b[0;34m\u001b[0m\u001b[0;34m\u001b[0m\u001b[0m\n\u001b[1;32m    736\u001b[0m                 \u001b[0;32mbreak\u001b[0m\u001b[0;34m\u001b[0m\u001b[0;34m\u001b[0m\u001b[0m\n",
            "\u001b[0;31mKeyboardInterrupt\u001b[0m: "
          ]
        }
      ]
    },
    {
      "cell_type": "code",
      "metadata": {
        "id": "jb5pOxjEgwvh",
        "colab": {
          "base_uri": "https://localhost:8080/",
          "height": 304
        },
        "outputId": "b32ca6be-e734-4bda-ffd7-c5fbeefb1578"
      },
      "source": [
        "#1-2 negative 4-5 positive\n",
        "data=data.drop(data[data['Star']==3].index)\n",
        "data['Star']=data['Star'].map({1:0,2:0,4:1,5:1})\n",
        "#distribution of sentiment type,note that they are not balanced, we will deal with this later\n",
        "data.groupby(\"Star\").size().plot(kind=\"bar\")"
      ],
      "execution_count": null,
      "outputs": [
        {
          "output_type": "execute_result",
          "data": {
            "text/plain": [
              "<matplotlib.axes._subplots.AxesSubplot at 0x7fd2b4ce5310>"
            ]
          },
          "metadata": {
            "tags": []
          },
          "execution_count": 3
        },
        {
          "output_type": "display_data",
          "data": {
            "image/png": "[encoded data removed]",
            "text/plain": [
              "<Figure size 432x288 with 1 Axes>"
            ]
          },
          "metadata": {
            "tags": [],
            "needs_background": "light"
          }
        }
      ]
    },
    {
      "cell_type": "code",
      "metadata": {
        "id": "Oo_tsh3ohcWI"
      },
      "source": [
        "#Since the rating distribution is not balanced, we balance the positive and negative sentments by sampling\n",
        "# Sample_batch is used to control the sample size, here we use a small set to reduce computation time\n",
        "sample_batch=200\n",
        "sample_df = data.groupby(['Movie_Name_CN', 'Star']).apply(lambda x: x.sample(n=int(2125056/(28*sample_batch)), replace=True, random_state=12))\n"
      ],
      "execution_count": null,
      "outputs": []
    },
    {
      "cell_type": "code",
      "metadata": {
        "id": "EiLMGg5RivyA"
      },
      "source": [
        "#define function to clean the sentences\n",
        "#compared with english, chinese words are concatenated, therefore much difficult to indentify the words\n",
        "def clean_str(line):\n",
        "    line.strip('\\n')\n",
        "    line = re.sub(r\"[^0-9^A-Z^a-z^\\u4e00-\\u9fff]\", \" \", line)\n",
        "    line = re.sub(\n",
        "        \"[\\-\\s+\\.\\!\\/_,$%^*\\(\\)\\+(+\\\"\\')]+|[+——！，。？、~@#￥%……&*（）<>\\[\\]:：★◆【】《》;；=?？]+\", \" \", line)\n",
        "    return line.strip()\n",
        "\n",
        "with open('gdrive/MyDrive/ColabNotebooks/stopwords.txt',encoding='utf-8') as f:\n",
        "    stopwords = [line.strip('\\n') for line in f.readlines()]\n",
        "def cut(data, labels, stopwords):\n",
        "    result = []\n",
        "    new_labels = []\n",
        "    for index in tqdm_notebook(range(len(data))):\n",
        "        #1. Clean illegal chars in text\n",
        "        comment = clean_str(data[index])\n",
        "        label = labels[index]\n",
        "        #2. jieba word cutting\n",
        "        # dict and key words\n",
        "        my_dict = os.getcwd() + r'\\\\userdict.txt'\n",
        "        jieba.load_userdict(codecs.open('userdict.txt', 'r', encoding='utf-8'))\n",
        "        # read key words \n",
        "        key_word_fn = 'keyword_list.txt'\n",
        "        kw_list = keywords(key_word_fn)\n",
        "               \n",
        "        #write a function to replace original cut \n",
        "        seg_list = seg_sentence(comment, kw_list)\n",
        "        #seg_list = jieba.cut(comment)\n",
        "        \n",
        "        #3. use stopwords to filter out unusable words\n",
        "        seg_list = [x.strip('\\n') for x in seg_list if x not in stopwords and len(x) > 1]\n",
        "        \n",
        "        if len(seg_list) > 1:\n",
        "            result.append(seg_list)\n",
        "            new_labels.append(label)\n",
        "    # Return word cutting tuple and label tuple\n",
        "    return result, new_labels\n",
        "\n",
        "#replacing function\n",
        "def seg_sentence(sentence, keyword_dict):\n",
        "   outstr=[]\n",
        "    stpword_fn = os.getcwd() + r'\\stopwords.txt'\n",
        "    sentence_seged = jieba.cut(sentence.strip())\n",
        "    stopwords = stopwordslist(stpword_fn)  # load stopwords path \n",
        "    outstr = \"\"\n",
        "    for word in sentence_seged:\n",
        "        if word not in stopwords and word in keyword_dict.keys():\n",
        "            if word != '\\t':\n",
        "                outstr.append(word)\n",
        "                # outstr += \" \"\n",
        "    return outstr\n",
        "\n",
        "\n",
        "## used trained \n",
        "def token_w2v(data, labels):\n",
        "  result = []\n",
        "  new_labels = []\n",
        "  for index in tqdm_notebook(range(len(data))):\n",
        "      #1. Clean illegal chars in text\n",
        "      comment = clean_str(data[index])\n",
        "      label = labels[index]\n",
        "      #2. jieba word cutting\n",
        "      #\n",
        "        seg = seg_sentence(comment, kw_list)\n",
        "      #seg = jieba.cut(comment)\n",
        "      seg_list = [x for x in seg]\n",
        "      #2.1. use stopwords to filter out unusable words\n",
        "      #seg_list = [x.strip('\\n') for x in seg_list if x not in stopwords and len(x) > 1]\n",
        "      #3. use cn_model \n",
        "      for i,word in enumerate(seg_list):\n",
        "          \n",
        "          try:\n",
        "              # Turn word into cn_model index\n",
        "              seg_list[i] =cn_model.vocab[word].index\n",
        "              pass\n",
        "          except KeyError:\n",
        "              # if word not in dict, output with 0\n",
        "              seg_list[i] = 0\n",
        "              pass   \n",
        "          pass\n",
        "      result.append(seg_list)\n",
        "      new_labels.append(label)\n",
        "  pass  \n",
        "  return result, new_labels\n",
        "\n",
        "def reverse_tokens(tokens):\n",
        "    text = ''\n",
        "    for index in tokens:\n",
        "        if index != 0:\n",
        "            text = text + cn_model.index2word[index]\n",
        "        else:\n",
        "            text = text + ''\n",
        "        pass\n",
        "    return text\n",
        "    pass"
      ],
      "execution_count": null,
      "outputs": []
    },
    {
      "cell_type": "code",
      "metadata": {
        "id": "RbKD1evBi0bm",
        "colab": {
          "base_uri": "https://localhost:8080/",
          "height": 310
        },
        "outputId": "5c10656d-9a9c-48d9-f21d-0fbd3d937c73"
      },
      "source": [
        "#train vs test = 8:2\n",
        "from sklearn.model_selection import train_test_split\n",
        "\n",
        "comments = sample_df.values[:, 7]\n",
        "star = sample_df.values[:, 6]\n",
        "# split train dataset and test dataset\n",
        "x_train_raw, x_test_raw, y_train_raw, y_test_raw, = train_test_split( comments, star, test_size=0.2, random_state=0)\n",
        "print(len(y_train_raw), len(y_test_raw), len(x_train_raw), len(x_test_raw))\n",
        "#distribution of sentiment type, more or less balanced\n",
        "sample_df['Star'].groupby(\"Star\").size().plot(kind=\"bar\") "
      ],
      "execution_count": null,
      "outputs": [
        {
          "output_type": "stream",
          "text": [
            "16979 4245 16979 4245\n"
          ],
          "name": "stdout"
        },
        {
          "output_type": "execute_result",
          "data": {
            "text/plain": [
              "<matplotlib.axes._subplots.AxesSubplot at 0x7fd2c949a090>"
            ]
          },
          "metadata": {
            "tags": []
          },
          "execution_count": 6
        },
        {
          "output_type": "display_data",
          "data": {
            "image/png": "[encoded data removed]",
            "text/plain": [
              "<Figure size 432x288 with 1 Axes>"
            ]
          },
          "metadata": {
            "tags": [],
            "needs_background": "light"
          }
        }
      ]
    },
    {
      "cell_type": "markdown",
      "metadata": {
        "id": "EzlVWwCpipen"
      },
      "source": [
        "# II Dataset Prepocessing"
      ]
    },
    {
      "cell_type": "code",
      "metadata": {
        "id": "cBiMCH6dkK_1",
        "colab": {
          "base_uri": "https://localhost:8080/",
          "height": 609,
          "referenced_widgets": [
            "8a8868ce6a7246ccbb63b3a1268afc7c",
            "179d6d3a4569403daf481c2d7eca825f",
            "434873da0d124982a33276da322619fb",
            "caf723d7058a4bc2aeaa3da5518ba36f",
            "4c9a15976f7240dcabb2e34bc850f89e",
            "fbdc099b172643508532105afd95c50c",
            "ccd7404607d34e27a5714ad81758077a",
            "ee3626e567ed49d298cbc78de9b48877",
            "d8a124e01da2457183de44225173f6a5",
            "1021fc3b0c64423c87a53f5ce6e9ece8",
            "aed429d680c6491ab5b8e340478bbe3c",
            "91436cc855b74f55818420df775c7770",
            "8b310ea7c8be454cb39eb782dae29683",
            "264982ef6f0d4ce681fab292bf1c8f6b",
            "1193c662936d4834b163e87471aca3ca",
            "6aa3c9127ad948b38073268f381789d9",
            "543799e4f433452cace850ddea1533c8",
            "75d7ec3f872e47b7bd808ef05a77a727",
            "fb1298a099e0455184731c1595e408c5",
            "da8e8c9ab4f6479e81d7dbe82e45e7cc",
            "090eb3756d2542a6bb96ee959b8a6c13",
            "70693009448c420da4f6d1ee6ebe4f7c",
            "0f0f89842f3245ef8b0dc3241a93b868",
            "d4098486f0774186beb26dd63ce56945",
            "9e44d00ca81f4d96976419c68853e6bb",
            "ab92fe89a31d463899c3e5844816955e",
            "f3d256f017bc478892a458c29b94febb",
            "b4773716621143c28dae16f81397e488",
            "1b82f31d9baf4362b45e8309cce0ea8d",
            "94e892cf482c4e139dae2962e01673f0",
            "bfff864ae5a74d8ca6dc6d85c9974037",
            "fe5679deb758487283d8e036bb8c9646"
          ]
        },
        "outputId": "e316d57d-a57f-4b79-c662-3fbaf0dba4fb"
      },
      "source": [
        "# II.i  - create tokenizer using local data\n",
        "from tensorflow.keras.preprocessing.text import Tokenizer\n",
        "# clean train and test dataset\n",
        "x_train_cut, y_train_cut = cut(x_train_raw, y_train_raw, stopwords)\n",
        "x_test_cut, y_test_cut = cut(x_test_raw, y_test_raw, stopwords)\n",
        "top_words = 10000\n",
        "train_data = [' '.join(x) for x in x_train_cut]\n",
        "token = Tokenizer(num_words=top_words)\n",
        "token.fit_on_texts(train_data)\n",
        "\n",
        "# vectorization\n",
        "x_train_vec = token.texts_to_sequences(x_train_cut)\n",
        "x_test_vec = token.texts_to_sequences(x_test_cut )\n",
        "\n",
        "#Normalize the tokens' length, in order to save computing time\n",
        "num_tokens = [ len(tokens) for tokens in x_train_vec ]\n",
        "num_tokens.sort(reverse=True)\n",
        "plt.plot(num_tokens)\n",
        "plt.title('localized token size')\n",
        "plt.ylabel('tokens count')\n",
        "plt.xlabel('tokens length')\n",
        "\n",
        "num_tokens = np.array(num_tokens)\n",
        "# if token follows normal distribution, ave+2*sigma should cover 97.5% samples\n",
        "max_words_vec = np.mean(num_tokens) + 2 * np.std(num_tokens)\n",
        "max_words_vec = int(max_words_vec)\n",
        "print('localized vectorization: max words :'+ str(max_words_vec))\n",
        "\n",
        "# II.ii - use Chinese_word_vector\n",
        "import gensim\n",
        "from gensim.models import KeyedVectors\n",
        "drive.mount('/content/gdrive')\n",
        "cn_model = KeyedVectors.load_word2vec_format('gdrive/MyDrive/ColabNotebooks/sgns.zhihu.bigram',binary=False, unicode_errors='ignore')\n",
        "x_train_w2v, y_train_w2v = token_w2v(x_train_raw, y_train_raw)\n",
        "x_test_w2v, y_test_w2v = token_w2v(x_test_raw, y_test_raw)\n",
        "\n",
        "#Normalize the tokens' length, in order to save computing time\n",
        "num_tokens = [ len(tokens) for tokens in x_train_w2v ]\n",
        "num_tokens.sort(reverse=True)\n",
        "plt.plot(num_tokens)\n",
        "plt.title('w2v token size')\n",
        "plt.ylabel('tokens count')\n",
        "plt.xlabel('tokens length')\n",
        "\n",
        "num_tokens = np.array(num_tokens)\n",
        "# if token follows normal distribution, ave+2*sigma should cover 97.5% samples\n",
        "max_words_w2v = np.mean(num_tokens) + 2 * np.std(num_tokens)\n",
        "max_words_w2v = int(max_words_w2v)\n",
        "print('Chinese Word Vector vectorization: max words :'+ str(max_words_w2v))"
      ],
      "execution_count": null,
      "outputs": [
        {
          "output_type": "display_data",
          "data": {
            "application/vnd.jupyter.widget-view+json": {
              "model_id": "8a8868ce6a7246ccbb63b3a1268afc7c",
              "version_minor": 0,
              "version_major": 2
            },
            "text/plain": [
              "HBox(children=(FloatProgress(value=0.0, max=16979.0), HTML(value='')))"
            ]
          },
          "metadata": {
            "tags": []
          }
        },
        {
          "output_type": "stream",
          "text": [
            "Building prefix dict from the default dictionary ...\n",
            "Dumping model to file cache /tmp/jieba.cache\n",
            "Loading model cost 1.069 seconds.\n",
            "Prefix dict has been built successfully.\n"
          ],
          "name": "stderr"
        },
        {
          "output_type": "stream",
          "text": [
            "\n"
          ],
          "name": "stdout"
        },
        {
          "output_type": "display_data",
          "data": {
            "application/vnd.jupyter.widget-view+json": {
              "model_id": "d8a124e01da2457183de44225173f6a5",
              "version_minor": 0,
              "version_major": 2
            },
            "text/plain": [
              "HBox(children=(FloatProgress(value=0.0, max=4245.0), HTML(value='')))"
            ]
          },
          "metadata": {
            "tags": []
          }
        },
        {
          "output_type": "stream",
          "text": [
            "\n",
            "localized vectorization: max words :24\n",
            "Drive already mounted at /content/gdrive; to attempt to forcibly remount, call drive.mount(\"/content/gdrive\", force_remount=True).\n"
          ],
          "name": "stdout"
        },
        {
          "output_type": "display_data",
          "data": {
            "application/vnd.jupyter.widget-view+json": {
              "model_id": "543799e4f433452cace850ddea1533c8",
              "version_minor": 0,
              "version_major": 2
            },
            "text/plain": [
              "HBox(children=(FloatProgress(value=0.0, max=16979.0), HTML(value='')))"
            ]
          },
          "metadata": {
            "tags": []
          }
        },
        {
          "output_type": "stream",
          "text": [
            "\n"
          ],
          "name": "stdout"
        },
        {
          "output_type": "display_data",
          "data": {
            "application/vnd.jupyter.widget-view+json": {
              "model_id": "9e44d00ca81f4d96976419c68853e6bb",
              "version_minor": 0,
              "version_major": 2
            },
            "text/plain": [
              "HBox(children=(FloatProgress(value=0.0, max=4245.0), HTML(value='')))"
            ]
          },
          "metadata": {
            "tags": []
          }
        },
        {
          "output_type": "stream",
          "text": [
            "\n",
            "Chinese Word Vector vectorization: max words :66\n"
          ],
          "name": "stdout"
        },
        {
          "output_type": "display_data",
          "data": {
            "image/png": "[encoded data removed]",
            "text/plain": [
              "<Figure size 432x288 with 1 Axes>"
            ]
          },
          "metadata": {
            "tags": [],
            "needs_background": "light"
          }
        }
      ]
    },
    {
      "cell_type": "markdown",
      "metadata": {
        "id": "QLeh2Jx4tTgw"
      },
      "source": [
        "# III. Build Model"
      ]
    },
    {
      "cell_type": "code",
      "metadata": {
        "id": "HO8e4SDgn7UG"
      },
      "source": [
        "#build model\n",
        "import numpy as np\n",
        "from matplotlib import pyplot as plt\n",
        "import tensorflow as tf\n",
        "from tensorflow.keras.preprocessing import *\n",
        "from tensorflow.python.keras.preprocessing.sequence import pad_sequences\n",
        "from keras import regularizers\n",
        "from tensorflow.python.keras.models import Sequential\n",
        "from tensorflow.python.keras.layers import *\n",
        "\n",
        "\n",
        "# allow us to select vectorized data\n",
        "def vec_select(flag):\n",
        "    if flag==1:\n",
        "      X_train=x_train_vec\n",
        "      Y_train=y_train_cut\n",
        "      X_test=x_test_vec\n",
        "      Y_test=y_test_cut\n",
        "      max_words=max_words_vec\n",
        "      return X_train,Y_train,X_test,Y_test,max_words\n",
        "    elif flag==2:\n",
        "      X_train=x_train_w2v\n",
        "      Y_train=y_train_w2v\n",
        "      X_test=x_test_w2v\n",
        "      Y_test=y_test_w2v\n",
        "      max_words=max_words_w2v\n",
        "      return X_train,Y_train,X_test,Y_test,max_words\n",
        "    else:\n",
        "      print('Choose 1 or 2')\n",
        "\n",
        "# In this section let's define some model \n",
        "def my_model(m_type,arg1,arg2,arg3,arg4,embedding_matrix,epochs,batch_size,mode):\n",
        "  \n",
        " # plain vanilla model This model ~ blind guess\n",
        "  if m_type=='Stupid':\n",
        "    model = Sequential()\n",
        "    model.add(Dense(256, activation='relu'))\n",
        "    model.add(Dense(128, activation='relu'))\n",
        "    model.add(Dense(64, activation='relu'))\n",
        "    model.add(Dense(1, activation='sigmoid'))\n",
        "# embedding+RNN in general comusume significant time with CPU calculation\n",
        "# consider use GPU to improve computing power, then in crease dataset size, and adopt deeper/wider RNN to improve accuracy\n",
        "  elif m_type=='RNN':\n",
        "    embedding_dims=arg1\n",
        "    model = Sequential()\n",
        "    if embedding_matrix==\"\":\n",
        "      model.add(Embedding(top_words,embedding_dims,input_length=max_words))\n",
        "    else:\n",
        "     model.add(Embedding(top_words,embedding_dims, weights=[embedding_matrix],input_length=max_words,trainable=False))\n",
        "    model.add(Bidirectional(LSTM(units=arg2, return_sequences=True)))\n",
        "    model.add(LSTM(units=arg3, return_sequences=False))\n",
        "    model.add(Dense(arg4, activation='relu'))\n",
        "    model.add(Dense(1, activation='sigmoid'))\n",
        "\n",
        "# 2 Embedding + tri-gram\n",
        "# CNN's results is inferor than RNN, however, because of the saving in computing power, in our case we can use a more complex model with bigger dataset to train the model.\n",
        "# with CNN we can manipulate the model more easily\n",
        "# in our case the embedding matrix is initialized randomly. in next steps we can consider using a pre-trained embedding model to improve the accuracy\n",
        "#3 embedding + multi-windows\n",
        "# combine multiple-Gram , a preferred way is use keras API to construct the model\n",
        "# it slightly improve the performance\n",
        "  elif m_type==\"Conv1D\":\n",
        "    embedding_dims=arg1\n",
        "    filters=arg2\n",
        "    \n",
        "    if isinstance(arg3,int):\n",
        "      kernel_size_list=[arg3]\n",
        "    else:\n",
        "      kernel_size_list=arg3\n",
        " \n",
        "    sentence = Input(batch_shape=(None, max_words), dtype='int32', name='sentence')\n",
        "    if embedding_matrix==\"\":\n",
        "      embedding_layer = Embedding(top_words, embedding_dims, input_length=max_words)\n",
        "    else:\n",
        "      embedding_layer = Embedding(top_words, embedding_dims, weights=[embedding_matrix],input_length=max_words,trainable=False)\n",
        "\n",
        "    sent_embed = embedding_layer(sentence)\n",
        "    sent_repre=Dropout(0.3)(sent_embed)\n",
        "    cnn_result=[]\n",
        "   \n",
        "    for kernel_size in kernel_size_list:\n",
        "        conv_layer = Conv1D(filters, kernel_size, padding='valid', activation='relu')\n",
        "        sent_conv = conv_layer(sent_repre)\n",
        "        sent_pooling = GlobalMaxPooling1D()(sent_conv)\n",
        "        cnn_result.append(sent_pooling)\n",
        "    cnn_result = concatenate(cnn_result)\n",
        "\n",
        "    sent_repre = Dense(arg4)(cnn_result)\n",
        "    sent_repre = Activation('relu')(sent_repre)\n",
        "    sent_repre = Dense(1)(sent_repre)\n",
        "    pred = Activation('sigmoid')(sent_repre)\n",
        "\n",
        "  \n",
        "  if m_type!= 'Conv1D':\n",
        "    pass\n",
        "  else:\n",
        "    model = tf.keras.models.Model(inputs=sentence, outputs=pred)\n",
        "  \n",
        "  model.compile(loss='binary_crossentropy', optimizer='Adam', metrics=['accuracy'])\n",
        "  history=model.fit(X_train, Y_train, validation_data=(X_test, Y_test),  epochs=epochs, batch_size=batch_size)  \n",
        "  if mode ==1:\n",
        "    model.summary()\n",
        "    plot_metric(history,\"accuracy\",m_type)\n",
        "  elif mode==0:#simple mode\n",
        "    best_metrics=max(history.history[\"val_accuracy\"])\n",
        "    best_epochs=history.history[\"val_accuracy\"].index(best_metrics)\n",
        "    return best_metrics,best_epochs\n",
        "  else:\n",
        "    pass\n",
        "\n",
        "def plot_metric(history, metric,name):\n",
        "    train_metrics = history.history[metric]\n",
        "    val_metrics = history.history['val_'+metric]\n",
        "    epochs = range(1, len(train_metrics) + 1)\n",
        "    plt.plot(epochs, train_metrics, 'bo--')\n",
        "    plt.plot(epochs, val_metrics, 'ro-')\n",
        "    plt.title(name+' Training and validation '+ metric)\n",
        "    plt.xlabel(\"Epochs\")\n",
        "    plt.ylabel(metric)\n",
        "    plt.legend([\"train_\"+metric, 'val_'+metric])\n",
        "    plt.show()\n",
        "\n"
      ],
      "execution_count": null,
      "outputs": []
    },
    {
      "cell_type": "markdown",
      "metadata": {
        "id": "lnxZ4jbgxsBi"
      },
      "source": [
        "# III.1 Use localized word vector "
      ]
    },
    {
      "cell_type": "code",
      "metadata": {
        "id": "I_MJd7fqv9SO"
      },
      "source": [
        "X_train,Y_train,X_test,Y_test,max_words=vec_select(1)\n",
        "\n",
        "# prepare vectorized data\n",
        "X_train = pad_sequences(X_train, maxlen=max_words,padding='pre',truncating='pre')\n",
        "X_test = pad_sequences(X_test, maxlen=max_words,padding='pre',truncating='pre')\n",
        "#convert dataset to numpy()\n",
        "Y_train=np.array(Y_train)\n",
        "Y_test=np.array(Y_test)\n",
        "\n"
      ],
      "execution_count": null,
      "outputs": []
    },
    {
      "cell_type": "code",
      "metadata": {
        "colab": {
          "base_uri": "https://localhost:8080/",
          "height": 905
        },
        "id": "t9B564NhKFkI",
        "outputId": "76eee545-a25d-4d0c-da6c-aee3ed5fc5a2"
      },
      "source": [
        "my_model('Stupid',0,0,0,0,\"\",10,100,1)"
      ],
      "execution_count": null,
      "outputs": [
        {
          "output_type": "stream",
          "text": [
            "Epoch 1/10\n",
            "147/147 [==============================] - 1s 4ms/step - loss: 18.7208 - accuracy: 0.5035 - val_loss: 6.2106 - val_accuracy: 0.5156\n",
            "Epoch 2/10\n",
            "147/147 [==============================] - 0s 3ms/step - loss: 5.1189 - accuracy: 0.5124 - val_loss: 3.6580 - val_accuracy: 0.4918\n",
            "Epoch 3/10\n",
            "147/147 [==============================] - 0s 3ms/step - loss: 2.7804 - accuracy: 0.5180 - val_loss: 2.6181 - val_accuracy: 0.4945\n",
            "Epoch 4/10\n",
            "147/147 [==============================] - 0s 3ms/step - loss: 1.8844 - accuracy: 0.5251 - val_loss: 2.2219 - val_accuracy: 0.4918\n",
            "Epoch 5/10\n",
            "147/147 [==============================] - 0s 3ms/step - loss: 1.3040 - accuracy: 0.5317 - val_loss: 1.3568 - val_accuracy: 0.4948\n",
            "Epoch 6/10\n",
            "147/147 [==============================] - 0s 3ms/step - loss: 0.9931 - accuracy: 0.5348 - val_loss: 1.2040 - val_accuracy: 0.4910\n",
            "Epoch 7/10\n",
            "147/147 [==============================] - 0s 3ms/step - loss: 0.9224 - accuracy: 0.5346 - val_loss: 1.0343 - val_accuracy: 0.4967\n",
            "Epoch 8/10\n",
            "147/147 [==============================] - 0s 3ms/step - loss: 0.8590 - accuracy: 0.5403 - val_loss: 1.0526 - val_accuracy: 0.5022\n",
            "Epoch 9/10\n",
            "147/147 [==============================] - 0s 3ms/step - loss: 0.8006 - accuracy: 0.5360 - val_loss: 0.9389 - val_accuracy: 0.5148\n",
            "Epoch 10/10\n",
            "147/147 [==============================] - 0s 3ms/step - loss: 0.7905 - accuracy: 0.5342 - val_loss: 1.1256 - val_accuracy: 0.4942\n",
            "Model: \"sequential_9\"\n",
            "_________________________________________________________________\n",
            "Layer (type)                 Output Shape              Param #   \n",
            "=================================================================\n",
            "dense_28 (Dense)             (None, 256)               6400      \n",
            "_________________________________________________________________\n",
            "dense_29 (Dense)             (None, 128)               32896     \n",
            "_________________________________________________________________\n",
            "dense_30 (Dense)             (None, 64)                8256      \n",
            "_________________________________________________________________\n",
            "dense_31 (Dense)             (None, 1)                 65        \n",
            "=================================================================\n",
            "Total params: 47,617\n",
            "Trainable params: 47,617\n",
            "Non-trainable params: 0\n",
            "_________________________________________________________________\n"
          ],
          "name": "stdout"
        },
        {
          "output_type": "display_data",
          "data": {
            "image/png": "[encoded data removed]",
            "text/plain": [
              "<Figure size 432x288 with 1 Axes>"
            ]
          },
          "metadata": {
            "tags": [],
            "needs_background": "light"
          }
        }
      ]
    },
    {
      "cell_type": "code",
      "metadata": {
        "id": "ua84VGtr1ouK",
        "colab": {
          "base_uri": "https://localhost:8080/",
          "height": 939
        },
        "outputId": "05a341b7-1d34-4542-c697-ae292f3f46e0"
      },
      "source": [
        "my_model('RNN',32,64,32,16,\"\",10,100,1)"
      ],
      "execution_count": null,
      "outputs": [
        {
          "output_type": "stream",
          "text": [
            "Epoch 1/10\n",
            "147/147 [==============================] - 58s 288ms/step - loss: 0.6013 - accuracy: 0.6551 - val_loss: 0.5235 - val_accuracy: 0.7475\n",
            "Epoch 2/10\n",
            "147/147 [==============================] - 42s 286ms/step - loss: 0.3905 - accuracy: 0.8274 - val_loss: 0.5383 - val_accuracy: 0.7525\n",
            "Epoch 3/10\n",
            "147/147 [==============================] - 43s 291ms/step - loss: 0.2965 - accuracy: 0.8758 - val_loss: 0.5620 - val_accuracy: 0.7536\n",
            "Epoch 4/10\n",
            "147/147 [==============================] - 42s 283ms/step - loss: 0.2388 - accuracy: 0.9051 - val_loss: 0.5914 - val_accuracy: 0.7399\n",
            "Epoch 5/10\n",
            "147/147 [==============================] - 43s 295ms/step - loss: 0.2027 - accuracy: 0.9215 - val_loss: 0.6976 - val_accuracy: 0.7448\n",
            "Epoch 6/10\n",
            "147/147 [==============================] - 42s 287ms/step - loss: 0.1669 - accuracy: 0.9352 - val_loss: 0.8453 - val_accuracy: 0.7344\n",
            "Epoch 7/10\n",
            "147/147 [==============================] - 42s 287ms/step - loss: 0.1494 - accuracy: 0.9402 - val_loss: 0.8713 - val_accuracy: 0.7401\n",
            "Epoch 8/10\n",
            "147/147 [==============================] - 41s 279ms/step - loss: 0.1347 - accuracy: 0.9460 - val_loss: 0.8890 - val_accuracy: 0.7360\n",
            "Epoch 9/10\n",
            "147/147 [==============================] - 42s 287ms/step - loss: 0.1210 - accuracy: 0.9515 - val_loss: 0.9785 - val_accuracy: 0.7377\n",
            "Epoch 10/10\n",
            "147/147 [==============================] - 43s 290ms/step - loss: 0.1111 - accuracy: 0.9549 - val_loss: 1.0738 - val_accuracy: 0.7286\n",
            "Model: \"sequential_10\"\n",
            "_________________________________________________________________\n",
            "Layer (type)                 Output Shape              Param #   \n",
            "=================================================================\n",
            "embedding_4 (Embedding)      (None, 24, 32)            1600000   \n",
            "_________________________________________________________________\n",
            "bidirectional_4 (Bidirection (None, 24, 128)           49664     \n",
            "_________________________________________________________________\n",
            "lstm_9 (LSTM)                (None, 32)                20608     \n",
            "_________________________________________________________________\n",
            "dense_32 (Dense)             (None, 16)                528       \n",
            "_________________________________________________________________\n",
            "dense_33 (Dense)             (None, 1)                 17        \n",
            "=================================================================\n",
            "Total params: 1,670,817\n",
            "Trainable params: 1,670,817\n",
            "Non-trainable params: 0\n",
            "_________________________________________________________________\n"
          ],
          "name": "stdout"
        },
        {
          "output_type": "display_data",
          "data": {
            "image/png": "[encoded data removed]",
            "text/plain": [
              "<Figure size 432x288 with 1 Axes>"
            ]
          },
          "metadata": {
            "tags": [],
            "needs_background": "light"
          }
        }
      ]
    },
    {
      "cell_type": "code",
      "metadata": {
        "colab": {
          "base_uri": "https://localhost:8080/",
          "height": 1000
        },
        "id": "1QCKbOJTE473",
        "outputId": "fd1c3bd6-ee98-4aef-a87a-5cd0285777c9"
      },
      "source": [
        "my_model('Conv1D',64,64,3,32,\"\",10,100,1)"
      ],
      "execution_count": null,
      "outputs": [
        {
          "output_type": "stream",
          "text": [
            "Epoch 1/10\n",
            "147/147 [==============================] - 5s 33ms/step - loss: 0.6569 - accuracy: 0.6013 - val_loss: 0.5428 - val_accuracy: 0.7275\n",
            "Epoch 2/10\n",
            "147/147 [==============================] - 5s 32ms/step - loss: 0.4707 - accuracy: 0.7826 - val_loss: 0.5014 - val_accuracy: 0.7519\n",
            "Epoch 3/10\n",
            "147/147 [==============================] - 5s 33ms/step - loss: 0.3626 - accuracy: 0.8460 - val_loss: 0.5232 - val_accuracy: 0.7558\n",
            "Epoch 4/10\n",
            "147/147 [==============================] - 5s 32ms/step - loss: 0.2928 - accuracy: 0.8783 - val_loss: 0.5663 - val_accuracy: 0.7508\n",
            "Epoch 5/10\n",
            "147/147 [==============================] - 5s 33ms/step - loss: 0.2400 - accuracy: 0.9031 - val_loss: 0.6045 - val_accuracy: 0.7475\n",
            "Epoch 6/10\n",
            "147/147 [==============================] - 5s 32ms/step - loss: 0.1986 - accuracy: 0.9216 - val_loss: 0.6644 - val_accuracy: 0.7404\n",
            "Epoch 7/10\n",
            "147/147 [==============================] - 5s 32ms/step - loss: 0.1706 - accuracy: 0.9321 - val_loss: 0.7154 - val_accuracy: 0.7434\n",
            "Epoch 8/10\n",
            "147/147 [==============================] - 5s 31ms/step - loss: 0.1460 - accuracy: 0.9416 - val_loss: 0.7867 - val_accuracy: 0.7349\n",
            "Epoch 9/10\n",
            "147/147 [==============================] - 5s 31ms/step - loss: 0.1346 - accuracy: 0.9458 - val_loss: 0.7996 - val_accuracy: 0.7358\n",
            "Epoch 10/10\n",
            "147/147 [==============================] - 5s 31ms/step - loss: 0.1217 - accuracy: 0.9499 - val_loss: 0.8941 - val_accuracy: 0.7284\n",
            "Model: \"model_1\"\n",
            "_________________________________________________________________\n",
            "Layer (type)                 Output Shape              Param #   \n",
            "=================================================================\n",
            "sentence (InputLayer)        [(None, 24)]              0         \n",
            "_________________________________________________________________\n",
            "embedding_6 (Embedding)      (None, 24, 64)            3200000   \n",
            "_________________________________________________________________\n",
            "dropout_1 (Dropout)          (None, 24, 64)            0         \n",
            "_________________________________________________________________\n",
            "conv1d_1 (Conv1D)            (None, 22, 64)            12352     \n",
            "_________________________________________________________________\n",
            "global_max_pooling1d_1 (Glob (None, 64)                0         \n",
            "_________________________________________________________________\n",
            "concatenate_1 (Concatenate)  (None, 64)                0         \n",
            "_________________________________________________________________\n",
            "dense_36 (Dense)             (None, 32)                2080      \n",
            "_________________________________________________________________\n",
            "activation_2 (Activation)    (None, 32)                0         \n",
            "_________________________________________________________________\n",
            "dense_37 (Dense)             (None, 1)                 33        \n",
            "_________________________________________________________________\n",
            "activation_3 (Activation)    (None, 1)                 0         \n",
            "=================================================================\n",
            "Total params: 3,214,465\n",
            "Trainable params: 3,214,465\n",
            "Non-trainable params: 0\n",
            "_________________________________________________________________\n"
          ],
          "name": "stdout"
        },
        {
          "output_type": "display_data",
          "data": {
            "image/png": "[encoded data removed]",
            "text/plain": [
              "<Figure size 432x288 with 1 Axes>"
            ]
          },
          "metadata": {
            "tags": [],
            "needs_background": "light"
          }
        }
      ]
    },
    {
      "cell_type": "code",
      "metadata": {
        "colab": {
          "base_uri": "https://localhost:8080/"
        },
        "id": "mpPkNTRk2apX",
        "outputId": "53f7712b-8bd0-4e14-baf2-cda42fadc8d3"
      },
      "source": [
        "# impact of N on the accuracy\n",
        "res_acc, res_n,res_ep=[[],[],[]]\n",
        "for n in range(2,int(max_words),2):\n",
        "  a,ep=my_model('Conv1D',64,64,3,32,\"\",10,100,0)\n",
        "  print(n)\n",
        "  res_acc.append(a)\n",
        "  res_n.append(n)\n",
        "  res_ep.append(ep)"
      ],
      "execution_count": null,
      "outputs": [
        {
          "output_type": "stream",
          "text": [
            "Epoch 1/10\n",
            "147/147 [==============================] - 31s 14ms/step - loss: 0.6498 - accuracy: 0.6119 - val_loss: 0.5290 - val_accuracy: 0.7352\n",
            "Epoch 2/10\n",
            "147/147 [==============================] - 2s 12ms/step - loss: 0.4451 - accuracy: 0.7944 - val_loss: 0.4949 - val_accuracy: 0.7560\n",
            "Epoch 3/10\n",
            "147/147 [==============================] - 2s 12ms/step - loss: 0.3188 - accuracy: 0.8670 - val_loss: 0.5341 - val_accuracy: 0.7612\n",
            "Epoch 4/10\n",
            "147/147 [==============================] - 2s 12ms/step - loss: 0.2290 - accuracy: 0.9107 - val_loss: 0.5984 - val_accuracy: 0.7522\n",
            "Epoch 5/10\n",
            "147/147 [==============================] - 2s 12ms/step - loss: 0.1701 - accuracy: 0.9350 - val_loss: 0.6864 - val_accuracy: 0.7448\n",
            "Epoch 6/10\n",
            "147/147 [==============================] - 2s 12ms/step - loss: 0.1273 - accuracy: 0.9520 - val_loss: 0.7532 - val_accuracy: 0.7429\n",
            "Epoch 7/10\n",
            "147/147 [==============================] - 2s 12ms/step - loss: 0.1012 - accuracy: 0.9605 - val_loss: 0.8632 - val_accuracy: 0.7382\n",
            "Epoch 8/10\n",
            "147/147 [==============================] - 2s 12ms/step - loss: 0.0834 - accuracy: 0.9669 - val_loss: 0.9390 - val_accuracy: 0.7308\n",
            "Epoch 9/10\n",
            "147/147 [==============================] - 2s 12ms/step - loss: 0.0713 - accuracy: 0.9714 - val_loss: 1.0388 - val_accuracy: 0.7259\n",
            "Epoch 10/10\n",
            "147/147 [==============================] - 2s 12ms/step - loss: 0.0628 - accuracy: 0.9733 - val_loss: 1.0834 - val_accuracy: 0.7234\n",
            "2\n",
            "Epoch 1/10\n",
            "147/147 [==============================] - 3s 13ms/step - loss: 0.6327 - accuracy: 0.6341 - val_loss: 0.5135 - val_accuracy: 0.7459\n",
            "Epoch 2/10\n",
            "147/147 [==============================] - 2s 12ms/step - loss: 0.4337 - accuracy: 0.8030 - val_loss: 0.4910 - val_accuracy: 0.7588\n",
            "Epoch 3/10\n",
            "147/147 [==============================] - 2s 12ms/step - loss: 0.3198 - accuracy: 0.8658 - val_loss: 0.5334 - val_accuracy: 0.7568\n",
            "Epoch 4/10\n",
            "147/147 [==============================] - 2s 12ms/step - loss: 0.2371 - accuracy: 0.9057 - val_loss: 0.6012 - val_accuracy: 0.7464\n",
            "Epoch 5/10\n",
            "147/147 [==============================] - 2s 12ms/step - loss: 0.1763 - accuracy: 0.9307 - val_loss: 0.6946 - val_accuracy: 0.7412\n",
            "Epoch 6/10\n",
            "147/147 [==============================] - 2s 14ms/step - loss: 0.1358 - accuracy: 0.9489 - val_loss: 0.7610 - val_accuracy: 0.7412\n",
            "Epoch 7/10\n",
            "147/147 [==============================] - 2s 11ms/step - loss: 0.1101 - accuracy: 0.9572 - val_loss: 0.8455 - val_accuracy: 0.7314\n",
            "Epoch 8/10\n",
            "147/147 [==============================] - 2s 12ms/step - loss: 0.0900 - accuracy: 0.9655 - val_loss: 0.9474 - val_accuracy: 0.7322\n",
            "Epoch 9/10\n",
            "147/147 [==============================] - 2s 12ms/step - loss: 0.0765 - accuracy: 0.9688 - val_loss: 1.0071 - val_accuracy: 0.7292\n",
            "Epoch 10/10\n",
            "147/147 [==============================] - 2s 12ms/step - loss: 0.0693 - accuracy: 0.9724 - val_loss: 1.0535 - val_accuracy: 0.7234\n",
            "4\n",
            "Epoch 1/10\n",
            "147/147 [==============================] - 3s 13ms/step - loss: 0.6435 - accuracy: 0.6255 - val_loss: 0.5248 - val_accuracy: 0.7374\n",
            "Epoch 2/10\n",
            "147/147 [==============================] - 2s 12ms/step - loss: 0.4396 - accuracy: 0.8010 - val_loss: 0.4914 - val_accuracy: 0.7593\n",
            "Epoch 3/10\n",
            "147/147 [==============================] - 2s 12ms/step - loss: 0.3202 - accuracy: 0.8658 - val_loss: 0.5347 - val_accuracy: 0.7516\n",
            "Epoch 4/10\n",
            "147/147 [==============================] - 2s 12ms/step - loss: 0.2332 - accuracy: 0.9085 - val_loss: 0.6028 - val_accuracy: 0.7505\n",
            "Epoch 5/10\n",
            "147/147 [==============================] - 2s 12ms/step - loss: 0.1715 - accuracy: 0.9340 - val_loss: 0.6811 - val_accuracy: 0.7456\n",
            "Epoch 6/10\n",
            "147/147 [==============================] - 2s 12ms/step - loss: 0.1292 - accuracy: 0.9511 - val_loss: 0.7688 - val_accuracy: 0.7412\n",
            "Epoch 7/10\n",
            "147/147 [==============================] - 2s 11ms/step - loss: 0.1039 - accuracy: 0.9610 - val_loss: 0.8524 - val_accuracy: 0.7415\n",
            "Epoch 8/10\n",
            "147/147 [==============================] - 2s 11ms/step - loss: 0.0834 - accuracy: 0.9665 - val_loss: 0.9266 - val_accuracy: 0.7314\n",
            "Epoch 9/10\n",
            "147/147 [==============================] - 2s 12ms/step - loss: 0.0689 - accuracy: 0.9731 - val_loss: 1.0272 - val_accuracy: 0.7278\n",
            "Epoch 10/10\n",
            "147/147 [==============================] - 2s 12ms/step - loss: 0.0618 - accuracy: 0.9746 - val_loss: 1.1085 - val_accuracy: 0.7284\n",
            "6\n",
            "Epoch 1/10\n",
            "147/147 [==============================] - 3s 13ms/step - loss: 0.6402 - accuracy: 0.6255 - val_loss: 0.5193 - val_accuracy: 0.7415\n",
            "Epoch 2/10\n",
            "147/147 [==============================] - 2s 12ms/step - loss: 0.4410 - accuracy: 0.7974 - val_loss: 0.4960 - val_accuracy: 0.7555\n",
            "Epoch 3/10\n",
            "147/147 [==============================] - 2s 12ms/step - loss: 0.3168 - accuracy: 0.8669 - val_loss: 0.5299 - val_accuracy: 0.7511\n",
            "Epoch 4/10\n",
            "147/147 [==============================] - 2s 12ms/step - loss: 0.2327 - accuracy: 0.9087 - val_loss: 0.5891 - val_accuracy: 0.7478\n",
            "Epoch 5/10\n",
            "147/147 [==============================] - 2s 12ms/step - loss: 0.1681 - accuracy: 0.9367 - val_loss: 0.6766 - val_accuracy: 0.7410\n",
            "Epoch 6/10\n",
            "147/147 [==============================] - 2s 12ms/step - loss: 0.1262 - accuracy: 0.9532 - val_loss: 0.7627 - val_accuracy: 0.7306\n",
            "Epoch 7/10\n",
            "147/147 [==============================] - 2s 12ms/step - loss: 0.1022 - accuracy: 0.9608 - val_loss: 0.8293 - val_accuracy: 0.7237\n",
            "Epoch 8/10\n",
            "147/147 [==============================] - 2s 12ms/step - loss: 0.0805 - accuracy: 0.9686 - val_loss: 0.9054 - val_accuracy: 0.7319\n",
            "Epoch 9/10\n",
            "147/147 [==============================] - 2s 12ms/step - loss: 0.0671 - accuracy: 0.9722 - val_loss: 1.0259 - val_accuracy: 0.7317\n",
            "Epoch 10/10\n",
            "147/147 [==============================] - 2s 12ms/step - loss: 0.0573 - accuracy: 0.9768 - val_loss: 1.0776 - val_accuracy: 0.7275\n",
            "8\n",
            "Epoch 1/10\n",
            "147/147 [==============================] - 3s 13ms/step - loss: 0.6380 - accuracy: 0.6299 - val_loss: 0.5157 - val_accuracy: 0.7396\n",
            "Epoch 2/10\n",
            "147/147 [==============================] - 2s 12ms/step - loss: 0.4352 - accuracy: 0.8034 - val_loss: 0.4947 - val_accuracy: 0.7601\n",
            "Epoch 3/10\n",
            "147/147 [==============================] - 2s 12ms/step - loss: 0.3178 - accuracy: 0.8675 - val_loss: 0.5363 - val_accuracy: 0.7547\n",
            "Epoch 4/10\n",
            "147/147 [==============================] - 2s 12ms/step - loss: 0.2321 - accuracy: 0.9094 - val_loss: 0.6190 - val_accuracy: 0.7410\n",
            "Epoch 5/10\n",
            "147/147 [==============================] - 2s 12ms/step - loss: 0.1756 - accuracy: 0.9316 - val_loss: 0.6871 - val_accuracy: 0.7451\n",
            "Epoch 6/10\n",
            "147/147 [==============================] - 2s 12ms/step - loss: 0.1310 - accuracy: 0.9516 - val_loss: 0.7733 - val_accuracy: 0.7462\n",
            "Epoch 7/10\n",
            "147/147 [==============================] - 2s 11ms/step - loss: 0.1047 - accuracy: 0.9592 - val_loss: 0.8554 - val_accuracy: 0.7380\n",
            "Epoch 8/10\n",
            "147/147 [==============================] - 2s 12ms/step - loss: 0.0862 - accuracy: 0.9653 - val_loss: 0.9448 - val_accuracy: 0.7295\n",
            "Epoch 9/10\n",
            "147/147 [==============================] - 2s 12ms/step - loss: 0.0727 - accuracy: 0.9718 - val_loss: 1.0194 - val_accuracy: 0.7281\n",
            "Epoch 10/10\n",
            "147/147 [==============================] - 2s 12ms/step - loss: 0.0625 - accuracy: 0.9751 - val_loss: 1.0666 - val_accuracy: 0.7306\n",
            "10\n",
            "Epoch 1/10\n",
            "147/147 [==============================] - 3s 13ms/step - loss: 0.6352 - accuracy: 0.6329 - val_loss: 0.5163 - val_accuracy: 0.7407\n",
            "Epoch 2/10\n",
            "147/147 [==============================] - 2s 12ms/step - loss: 0.4336 - accuracy: 0.7988 - val_loss: 0.4967 - val_accuracy: 0.7558\n",
            "Epoch 3/10\n",
            "147/147 [==============================] - 2s 12ms/step - loss: 0.3092 - accuracy: 0.8721 - val_loss: 0.5381 - val_accuracy: 0.7563\n",
            "Epoch 4/10\n",
            "147/147 [==============================] - 2s 12ms/step - loss: 0.2240 - accuracy: 0.9129 - val_loss: 0.6079 - val_accuracy: 0.7412\n",
            "Epoch 5/10\n",
            "147/147 [==============================] - 2s 12ms/step - loss: 0.1606 - accuracy: 0.9383 - val_loss: 0.7067 - val_accuracy: 0.7473\n",
            "Epoch 6/10\n",
            "147/147 [==============================] - 2s 12ms/step - loss: 0.1236 - accuracy: 0.9541 - val_loss: 0.7858 - val_accuracy: 0.7371\n",
            "Epoch 7/10\n",
            "147/147 [==============================] - 2s 12ms/step - loss: 0.1007 - accuracy: 0.9615 - val_loss: 0.8551 - val_accuracy: 0.7317\n",
            "Epoch 8/10\n",
            "147/147 [==============================] - 2s 12ms/step - loss: 0.0809 - accuracy: 0.9688 - val_loss: 0.9454 - val_accuracy: 0.7314\n",
            "Epoch 9/10\n",
            "147/147 [==============================] - 2s 12ms/step - loss: 0.0642 - accuracy: 0.9748 - val_loss: 1.0286 - val_accuracy: 0.7306\n",
            "Epoch 10/10\n",
            "147/147 [==============================] - 2s 12ms/step - loss: 0.0564 - accuracy: 0.9783 - val_loss: 1.0891 - val_accuracy: 0.7284\n",
            "12\n",
            "Epoch 1/10\n",
            "147/147 [==============================] - 3s 13ms/step - loss: 0.6404 - accuracy: 0.6226 - val_loss: 0.5156 - val_accuracy: 0.7440\n",
            "Epoch 2/10\n",
            "147/147 [==============================] - 2s 12ms/step - loss: 0.4393 - accuracy: 0.7992 - val_loss: 0.4924 - val_accuracy: 0.7664\n",
            "Epoch 3/10\n",
            "147/147 [==============================] - 2s 12ms/step - loss: 0.3228 - accuracy: 0.8661 - val_loss: 0.5264 - val_accuracy: 0.7637\n",
            "Epoch 4/10\n",
            "147/147 [==============================] - 2s 12ms/step - loss: 0.2402 - accuracy: 0.9029 - val_loss: 0.5947 - val_accuracy: 0.7571\n",
            "Epoch 5/10\n",
            "147/147 [==============================] - 2s 12ms/step - loss: 0.1778 - accuracy: 0.9306 - val_loss: 0.6773 - val_accuracy: 0.7481\n",
            "Epoch 6/10\n",
            "147/147 [==============================] - 2s 12ms/step - loss: 0.1335 - accuracy: 0.9488 - val_loss: 0.7713 - val_accuracy: 0.7440\n",
            "Epoch 7/10\n",
            "147/147 [==============================] - 2s 11ms/step - loss: 0.1073 - accuracy: 0.9587 - val_loss: 0.8518 - val_accuracy: 0.7412\n",
            "Epoch 8/10\n",
            "147/147 [==============================] - 2s 11ms/step - loss: 0.0888 - accuracy: 0.9640 - val_loss: 0.9398 - val_accuracy: 0.7377\n",
            "Epoch 9/10\n",
            "147/147 [==============================] - 2s 12ms/step - loss: 0.0707 - accuracy: 0.9726 - val_loss: 1.0346 - val_accuracy: 0.7327\n",
            "Epoch 10/10\n",
            "147/147 [==============================] - 2s 12ms/step - loss: 0.0617 - accuracy: 0.9755 - val_loss: 1.1078 - val_accuracy: 0.7295\n",
            "14\n",
            "Epoch 1/10\n",
            "147/147 [==============================] - 3s 13ms/step - loss: 0.6342 - accuracy: 0.6401 - val_loss: 0.5126 - val_accuracy: 0.7369\n",
            "Epoch 2/10\n",
            "147/147 [==============================] - 2s 11ms/step - loss: 0.4300 - accuracy: 0.8038 - val_loss: 0.4933 - val_accuracy: 0.7599\n",
            "Epoch 3/10\n",
            "147/147 [==============================] - 2s 11ms/step - loss: 0.3099 - accuracy: 0.8737 - val_loss: 0.5339 - val_accuracy: 0.7588\n",
            "Epoch 4/10\n",
            "147/147 [==============================] - 2s 12ms/step - loss: 0.2251 - accuracy: 0.9110 - val_loss: 0.6104 - val_accuracy: 0.7495\n",
            "Epoch 5/10\n",
            "147/147 [==============================] - 2s 12ms/step - loss: 0.1661 - accuracy: 0.9361 - val_loss: 0.6943 - val_accuracy: 0.7401\n",
            "Epoch 6/10\n",
            "147/147 [==============================] - 2s 12ms/step - loss: 0.1267 - accuracy: 0.9508 - val_loss: 0.7999 - val_accuracy: 0.7344\n",
            "Epoch 7/10\n",
            "147/147 [==============================] - 2s 12ms/step - loss: 0.1007 - accuracy: 0.9618 - val_loss: 0.8757 - val_accuracy: 0.7322\n",
            "Epoch 8/10\n",
            "147/147 [==============================] - 2s 12ms/step - loss: 0.0791 - accuracy: 0.9681 - val_loss: 0.9740 - val_accuracy: 0.7311\n",
            "Epoch 9/10\n",
            "147/147 [==============================] - 2s 12ms/step - loss: 0.0671 - accuracy: 0.9730 - val_loss: 1.0841 - val_accuracy: 0.7295\n",
            "Epoch 10/10\n",
            "147/147 [==============================] - 2s 12ms/step - loss: 0.0602 - accuracy: 0.9768 - val_loss: 1.1109 - val_accuracy: 0.7306\n",
            "16\n",
            "Epoch 1/10\n",
            "147/147 [==============================] - 3s 14ms/step - loss: 0.6412 - accuracy: 0.6226 - val_loss: 0.5220 - val_accuracy: 0.7344\n",
            "Epoch 2/10\n",
            "147/147 [==============================] - 2s 12ms/step - loss: 0.4434 - accuracy: 0.7969 - val_loss: 0.4890 - val_accuracy: 0.7593\n",
            "Epoch 3/10\n",
            "147/147 [==============================] - 2s 12ms/step - loss: 0.3176 - accuracy: 0.8680 - val_loss: 0.5314 - val_accuracy: 0.7585\n",
            "Epoch 4/10\n",
            "147/147 [==============================] - 2s 12ms/step - loss: 0.2333 - accuracy: 0.9067 - val_loss: 0.6010 - val_accuracy: 0.7481\n",
            "Epoch 5/10\n",
            "147/147 [==============================] - 2s 12ms/step - loss: 0.1684 - accuracy: 0.9377 - val_loss: 0.6838 - val_accuracy: 0.7418\n",
            "Epoch 6/10\n",
            "147/147 [==============================] - 2s 12ms/step - loss: 0.1278 - accuracy: 0.9510 - val_loss: 0.7911 - val_accuracy: 0.7308\n",
            "Epoch 7/10\n",
            "147/147 [==============================] - 2s 12ms/step - loss: 0.1005 - accuracy: 0.9602 - val_loss: 0.8818 - val_accuracy: 0.7327\n",
            "Epoch 8/10\n",
            "147/147 [==============================] - 2s 12ms/step - loss: 0.0802 - accuracy: 0.9681 - val_loss: 0.9701 - val_accuracy: 0.7385\n",
            "Epoch 9/10\n",
            "147/147 [==============================] - 2s 12ms/step - loss: 0.0660 - accuracy: 0.9725 - val_loss: 1.0538 - val_accuracy: 0.7314\n",
            "Epoch 10/10\n",
            "147/147 [==============================] - 2s 12ms/step - loss: 0.0580 - accuracy: 0.9759 - val_loss: 1.1307 - val_accuracy: 0.7256\n",
            "18\n",
            "Epoch 1/10\n",
            "147/147 [==============================] - 3s 13ms/step - loss: 0.6399 - accuracy: 0.6243 - val_loss: 0.5125 - val_accuracy: 0.7437\n",
            "Epoch 2/10\n",
            "147/147 [==============================] - 2s 12ms/step - loss: 0.4367 - accuracy: 0.8011 - val_loss: 0.4926 - val_accuracy: 0.7637\n",
            "Epoch 3/10\n",
            "147/147 [==============================] - 2s 13ms/step - loss: 0.3154 - accuracy: 0.8658 - val_loss: 0.5333 - val_accuracy: 0.7563\n",
            "Epoch 4/10\n",
            "147/147 [==============================] - 2s 12ms/step - loss: 0.2302 - accuracy: 0.9073 - val_loss: 0.6143 - val_accuracy: 0.7511\n",
            "Epoch 5/10\n",
            "147/147 [==============================] - 2s 12ms/step - loss: 0.1680 - accuracy: 0.9343 - val_loss: 0.6954 - val_accuracy: 0.7453\n",
            "Epoch 6/10\n",
            "147/147 [==============================] - 2s 12ms/step - loss: 0.1300 - accuracy: 0.9501 - val_loss: 0.7763 - val_accuracy: 0.7418\n",
            "Epoch 7/10\n",
            "147/147 [==============================] - 2s 12ms/step - loss: 0.1030 - accuracy: 0.9619 - val_loss: 0.8558 - val_accuracy: 0.7388\n",
            "Epoch 8/10\n",
            "147/147 [==============================] - 2s 12ms/step - loss: 0.0823 - accuracy: 0.9681 - val_loss: 0.9360 - val_accuracy: 0.7333\n",
            "Epoch 9/10\n",
            "147/147 [==============================] - 2s 12ms/step - loss: 0.0695 - accuracy: 0.9731 - val_loss: 1.0135 - val_accuracy: 0.7300\n",
            "Epoch 10/10\n",
            "147/147 [==============================] - 2s 13ms/step - loss: 0.0603 - accuracy: 0.9771 - val_loss: 1.0889 - val_accuracy: 0.7251\n",
            "20\n",
            "Epoch 1/10\n",
            "147/147 [==============================] - 3s 14ms/step - loss: 0.6374 - accuracy: 0.6267 - val_loss: 0.5131 - val_accuracy: 0.7475\n",
            "Epoch 2/10\n",
            "147/147 [==============================] - 2s 12ms/step - loss: 0.4370 - accuracy: 0.8010 - val_loss: 0.4930 - val_accuracy: 0.7610\n",
            "Epoch 3/10\n",
            "147/147 [==============================] - 2s 12ms/step - loss: 0.3169 - accuracy: 0.8697 - val_loss: 0.5396 - val_accuracy: 0.7530\n",
            "Epoch 4/10\n",
            "147/147 [==============================] - 2s 12ms/step - loss: 0.2345 - accuracy: 0.9066 - val_loss: 0.6014 - val_accuracy: 0.7448\n",
            "Epoch 5/10\n",
            "147/147 [==============================] - 2s 12ms/step - loss: 0.1779 - accuracy: 0.9305 - val_loss: 0.6774 - val_accuracy: 0.7475\n",
            "Epoch 6/10\n",
            "147/147 [==============================] - 2s 12ms/step - loss: 0.1335 - accuracy: 0.9504 - val_loss: 0.7816 - val_accuracy: 0.7355\n",
            "Epoch 7/10\n",
            "147/147 [==============================] - 2s 12ms/step - loss: 0.1077 - accuracy: 0.9592 - val_loss: 0.8586 - val_accuracy: 0.7306\n",
            "Epoch 8/10\n",
            "147/147 [==============================] - 2s 12ms/step - loss: 0.0877 - accuracy: 0.9649 - val_loss: 0.9675 - val_accuracy: 0.7319\n",
            "Epoch 9/10\n",
            "147/147 [==============================] - 2s 12ms/step - loss: 0.0773 - accuracy: 0.9686 - val_loss: 1.0387 - val_accuracy: 0.7254\n",
            "Epoch 10/10\n",
            "147/147 [==============================] - 2s 12ms/step - loss: 0.0627 - accuracy: 0.9748 - val_loss: 1.1303 - val_accuracy: 0.7319\n",
            "22\n"
          ],
          "name": "stdout"
        }
      ]
    },
    {
      "cell_type": "code",
      "metadata": {
        "colab": {
          "base_uri": "https://localhost:8080/",
          "height": 296
        },
        "id": "Zk4GDirq62VO",
        "outputId": "0712ea04-aa96-4d81-eac0-5dc4e59670a1"
      },
      "source": [
        "res_acc=np.array(res_acc)\n",
        "res_n=np.array(res_n)\n",
        "res_ep=np.array(res_ep)\n",
        "plt.plot(res_n,res_acc,'r-')\n",
        "#plt.plot(res_n,res_ep,'b-')\n",
        "plt.xlabel('N-Gram')\n",
        "plt.ylabel('Accuracy')"
      ],
      "execution_count": null,
      "outputs": [
        {
          "output_type": "execute_result",
          "data": {
            "text/plain": [
              "Text(0, 0.5, 'Accuracy')"
            ]
          },
          "metadata": {
            "tags": []
          },
          "execution_count": 17
        },
        {
          "output_type": "display_data",
          "data": {
            "image/png": "[encoded data removed]",
            "text/plain": [
              "<Figure size 432x288 with 1 Axes>"
            ]
          },
          "metadata": {
            "tags": [],
            "needs_background": "light"
          }
        }
      ]
    },
    {
      "cell_type": "code",
      "metadata": {
        "colab": {
          "base_uri": "https://localhost:8080/",
          "height": 1000
        },
        "id": "1R6Ruv7bNPcG",
        "outputId": "e8783c5a-ad1e-42f7-8441-8b5e58f4159d"
      },
      "source": [
        "my_model('Conv1D',64,64,[2,4,14],32,\"\",10,100,1)"
      ],
      "execution_count": null,
      "outputs": [
        {
          "output_type": "stream",
          "text": [
            "Epoch 1/10\n",
            "147/147 [==============================] - 4s 17ms/step - loss: 0.6172 - accuracy: 0.6459 - val_loss: 0.4962 - val_accuracy: 0.7631\n",
            "Epoch 2/10\n",
            "147/147 [==============================] - 2s 15ms/step - loss: 0.4113 - accuracy: 0.8154 - val_loss: 0.4883 - val_accuracy: 0.7653\n",
            "Epoch 3/10\n",
            "147/147 [==============================] - 2s 15ms/step - loss: 0.2949 - accuracy: 0.8775 - val_loss: 0.5312 - val_accuracy: 0.7618\n",
            "Epoch 4/10\n",
            "147/147 [==============================] - 2s 15ms/step - loss: 0.2069 - accuracy: 0.9154 - val_loss: 0.6191 - val_accuracy: 0.7558\n",
            "Epoch 5/10\n",
            "147/147 [==============================] - 2s 15ms/step - loss: 0.1493 - accuracy: 0.9405 - val_loss: 0.7366 - val_accuracy: 0.7497\n",
            "Epoch 6/10\n",
            "147/147 [==============================] - 2s 15ms/step - loss: 0.1111 - accuracy: 0.9561 - val_loss: 0.8272 - val_accuracy: 0.7404\n",
            "Epoch 7/10\n",
            "147/147 [==============================] - 2s 15ms/step - loss: 0.0915 - accuracy: 0.9621 - val_loss: 0.9245 - val_accuracy: 0.7330\n",
            "Epoch 8/10\n",
            "147/147 [==============================] - 2s 15ms/step - loss: 0.0735 - accuracy: 0.9711 - val_loss: 1.0311 - val_accuracy: 0.7259\n",
            "Epoch 9/10\n",
            "147/147 [==============================] - 2s 15ms/step - loss: 0.0616 - accuracy: 0.9746 - val_loss: 1.1333 - val_accuracy: 0.7295\n",
            "Epoch 10/10\n",
            "147/147 [==============================] - 2s 15ms/step - loss: 0.0557 - accuracy: 0.9770 - val_loss: 1.2037 - val_accuracy: 0.7341\n",
            "Model: \"model_13\"\n",
            "__________________________________________________________________________________________________\n",
            "Layer (type)                    Output Shape         Param #     Connected to                     \n",
            "==================================================================================================\n",
            "sentence (InputLayer)           [(None, 24)]         0                                            \n",
            "__________________________________________________________________________________________________\n",
            "embedding_13 (Embedding)        (None, 24, 64)       640000      sentence[0][0]                   \n",
            "__________________________________________________________________________________________________\n",
            "dropout_13 (Dropout)            (None, 24, 64)       0           embedding_13[0][0]               \n",
            "__________________________________________________________________________________________________\n",
            "conv1d_17 (Conv1D)              (None, 23, 64)       8256        dropout_13[0][0]                 \n",
            "__________________________________________________________________________________________________\n",
            "conv1d_18 (Conv1D)              (None, 21, 64)       16448       dropout_13[0][0]                 \n",
            "__________________________________________________________________________________________________\n",
            "conv1d_19 (Conv1D)              (None, 11, 64)       57408       dropout_13[0][0]                 \n",
            "__________________________________________________________________________________________________\n",
            "global_max_pooling1d_17 (Global (None, 64)           0           conv1d_17[0][0]                  \n",
            "__________________________________________________________________________________________________\n",
            "global_max_pooling1d_18 (Global (None, 64)           0           conv1d_18[0][0]                  \n",
            "__________________________________________________________________________________________________\n",
            "global_max_pooling1d_19 (Global (None, 64)           0           conv1d_19[0][0]                  \n",
            "__________________________________________________________________________________________________\n",
            "concatenate_13 (Concatenate)    (None, 192)          0           global_max_pooling1d_17[0][0]    \n",
            "                                                                 global_max_pooling1d_18[0][0]    \n",
            "                                                                 global_max_pooling1d_19[0][0]    \n",
            "__________________________________________________________________________________________________\n",
            "dense_26 (Dense)                (None, 32)           6176        concatenate_13[0][0]             \n",
            "__________________________________________________________________________________________________\n",
            "activation_26 (Activation)      (None, 32)           0           dense_26[0][0]                   \n",
            "__________________________________________________________________________________________________\n",
            "dense_27 (Dense)                (None, 1)            33          activation_26[0][0]              \n",
            "__________________________________________________________________________________________________\n",
            "activation_27 (Activation)      (None, 1)            0           dense_27[0][0]                   \n",
            "==================================================================================================\n",
            "Total params: 728,321\n",
            "Trainable params: 728,321\n",
            "Non-trainable params: 0\n",
            "__________________________________________________________________________________________________\n"
          ],
          "name": "stdout"
        },
        {
          "output_type": "display_data",
          "data": {
            "image/png": "[encoded data removed]",
            "text/plain": [
              "<Figure size 432x288 with 1 Axes>"
            ]
          },
          "metadata": {
            "tags": [],
            "needs_background": "light"
          }
        }
      ]
    },
    {
      "cell_type": "markdown",
      "metadata": {
        "id": "II9KUuH46otd"
      },
      "source": [
        "# III.2 Use Chinese word vector"
      ]
    },
    {
      "cell_type": "code",
      "metadata": {
        "id": "O1OrVMb-6ukX"
      },
      "source": [
        "X_train,Y_train,X_test,Y_test,max_words=vec_select(2)\n",
        "# prepare embedding matrix from cn_model for keras\n",
        "# since the embedding is already trained, we can use a much bigger matrix to improve the over-fitting problem that we have in version 1\n",
        "top_words=50000\n",
        "embedding_dims=300\n",
        "embedding_matrix = np.zeros((top_words, embedding_dims))\n",
        "\n",
        "for i in range(top_words):\n",
        "    embedding_matrix[i,:] =cn_model[cn_model.index2word[i]][:embedding_dims]\n",
        "embedding_matrix = embedding_matrix.astype('float32')\n",
        "\n",
        "# prepare vectorized data\n",
        "X_train = pad_sequences(X_train, maxlen=max_words,padding='pre',truncating='pre')\n",
        "X_test = pad_sequences(X_test, maxlen=max_words,padding='pre',truncating='pre')\n",
        "# using 0 t oreplace words that exceeds top_word\n",
        "X_train[ X_train>=top_words ] = 0\n",
        "X_test[ X_test>=top_words ] = 0\n",
        "#convert dataset to numpy()\n",
        "Y_train=np.array(Y_train)\n",
        "Y_test=np.array(Y_test)"
      ],
      "execution_count": null,
      "outputs": []
    },
    {
      "cell_type": "code",
      "metadata": {
        "colab": {
          "base_uri": "https://localhost:8080/",
          "height": 939
        },
        "id": "2JGNiwRt7NI9",
        "outputId": "16ed418c-65c4-435a-f8d2-ea4d079a6049"
      },
      "source": [
        "my_model('RNN',300,32,16,32,embedding_matrix,10,100,1)"
      ],
      "execution_count": null,
      "outputs": [
        {
          "output_type": "stream",
          "text": [
            "Epoch 1/10\n",
            "170/170 [==============================] - 178s 727ms/step - loss: 0.5943 - accuracy: 0.6719 - val_loss: 0.5291 - val_accuracy: 0.7397\n",
            "Epoch 2/10\n",
            "170/170 [==============================] - 126s 740ms/step - loss: 0.4820 - accuracy: 0.7675 - val_loss: 0.4909 - val_accuracy: 0.7630\n",
            "Epoch 3/10\n",
            "170/170 [==============================] - 124s 730ms/step - loss: 0.4414 - accuracy: 0.7900 - val_loss: 0.4658 - val_accuracy: 0.7764\n",
            "Epoch 4/10\n",
            "170/170 [==============================] - 123s 724ms/step - loss: 0.4101 - accuracy: 0.8073 - val_loss: 0.4781 - val_accuracy: 0.7743\n",
            "Epoch 5/10\n",
            "170/170 [==============================] - 126s 740ms/step - loss: 0.3750 - accuracy: 0.8236 - val_loss: 0.4731 - val_accuracy: 0.7790\n",
            "Epoch 6/10\n",
            "170/170 [==============================] - 125s 736ms/step - loss: 0.3438 - accuracy: 0.8448 - val_loss: 0.4605 - val_accuracy: 0.7812\n",
            "Epoch 7/10\n",
            "170/170 [==============================] - 124s 730ms/step - loss: 0.3053 - accuracy: 0.8649 - val_loss: 0.4793 - val_accuracy: 0.7878\n",
            "Epoch 8/10\n",
            "170/170 [==============================] - 123s 725ms/step - loss: 0.2707 - accuracy: 0.8854 - val_loss: 0.5020 - val_accuracy: 0.7915\n",
            "Epoch 9/10\n",
            "170/170 [==============================] - 124s 728ms/step - loss: 0.2372 - accuracy: 0.8992 - val_loss: 0.5430 - val_accuracy: 0.7840\n",
            "Epoch 10/10\n",
            "170/170 [==============================] - 123s 726ms/step - loss: 0.1979 - accuracy: 0.9187 - val_loss: 0.6073 - val_accuracy: 0.7878\n",
            "Model: \"sequential_11\"\n",
            "_________________________________________________________________\n",
            "Layer (type)                 Output Shape              Param #   \n",
            "=================================================================\n",
            "embedding_8 (Embedding)      (None, 66, 300)           15000000  \n",
            "_________________________________________________________________\n",
            "bidirectional_5 (Bidirection (None, 66, 64)            85248     \n",
            "_________________________________________________________________\n",
            "lstm_11 (LSTM)               (None, 16)                5184      \n",
            "_________________________________________________________________\n",
            "dense_40 (Dense)             (None, 32)                544       \n",
            "_________________________________________________________________\n",
            "dense_41 (Dense)             (None, 1)                 33        \n",
            "=================================================================\n",
            "Total params: 15,091,009\n",
            "Trainable params: 91,009\n",
            "Non-trainable params: 15,000,000\n",
            "_________________________________________________________________\n"
          ],
          "name": "stdout"
        },
        {
          "output_type": "display_data",
          "data": {
            "image/png": "[encoded data removed]",
            "text/plain": [
              "<Figure size 432x288 with 1 Axes>"
            ]
          },
          "metadata": {
            "tags": [],
            "needs_background": "light"
          }
        }
      ]
    },
    {
      "cell_type": "code",
      "metadata": {
        "colab": {
          "base_uri": "https://localhost:8080/",
          "height": 1000
        },
        "id": "NGBm9MSiFEwF",
        "outputId": "cf323d31-0dec-40cd-d57f-65d17a8f217d"
      },
      "source": [
        "my_model('Conv1D',300,32,5,64,\"\",10,100,1)"
      ],
      "execution_count": null,
      "outputs": [
        {
          "output_type": "stream",
          "text": [
            "Epoch 1/10\n",
            "170/170 [==============================] - 58s 334ms/step - loss: 0.5959 - accuracy: 0.6569 - val_loss: 0.4875 - val_accuracy: 0.7614\n",
            "Epoch 2/10\n",
            "170/170 [==============================] - 56s 330ms/step - loss: 0.4004 - accuracy: 0.8202 - val_loss: 0.4681 - val_accuracy: 0.7788\n",
            "Epoch 3/10\n",
            "170/170 [==============================] - 56s 329ms/step - loss: 0.2739 - accuracy: 0.8873 - val_loss: 0.4898 - val_accuracy: 0.7845\n",
            "Epoch 4/10\n",
            "170/170 [==============================] - 56s 329ms/step - loss: 0.1713 - accuracy: 0.9345 - val_loss: 0.5915 - val_accuracy: 0.7767\n",
            "Epoch 5/10\n",
            "170/170 [==============================] - 56s 331ms/step - loss: 0.1129 - accuracy: 0.9555 - val_loss: 0.6878 - val_accuracy: 0.7748\n",
            "Epoch 6/10\n",
            "170/170 [==============================] - 56s 330ms/step - loss: 0.0735 - accuracy: 0.9704 - val_loss: 0.7989 - val_accuracy: 0.7701\n",
            "Epoch 7/10\n",
            "170/170 [==============================] - 56s 330ms/step - loss: 0.0624 - accuracy: 0.9741 - val_loss: 0.8516 - val_accuracy: 0.7715\n",
            "Epoch 8/10\n",
            "170/170 [==============================] - 57s 333ms/step - loss: 0.0498 - accuracy: 0.9789 - val_loss: 0.9689 - val_accuracy: 0.7640\n",
            "Epoch 9/10\n",
            "170/170 [==============================] - 57s 334ms/step - loss: 0.0472 - accuracy: 0.9799 - val_loss: 1.0061 - val_accuracy: 0.7691\n",
            "Epoch 10/10\n",
            "170/170 [==============================] - 56s 331ms/step - loss: 0.0440 - accuracy: 0.9807 - val_loss: 1.0770 - val_accuracy: 0.7637\n",
            "Model: \"model_2\"\n",
            "_________________________________________________________________\n",
            "Layer (type)                 Output Shape              Param #   \n",
            "=================================================================\n",
            "sentence (InputLayer)        [(None, 66)]              0         \n",
            "_________________________________________________________________\n",
            "embedding_7 (Embedding)      (None, 66, 300)           15000000  \n",
            "_________________________________________________________________\n",
            "dropout_2 (Dropout)          (None, 66, 300)           0         \n",
            "_________________________________________________________________\n",
            "conv1d_4 (Conv1D)            (None, 62, 64)            96064     \n",
            "_________________________________________________________________\n",
            "global_max_pooling1d_4 (Glob (None, 64)                0         \n",
            "_________________________________________________________________\n",
            "concatenate_2 (Concatenate)  (None, 64)                0         \n",
            "_________________________________________________________________\n",
            "dense_14 (Dense)             (None, 128)               8320      \n",
            "_________________________________________________________________\n",
            "activation_4 (Activation)    (None, 128)               0         \n",
            "_________________________________________________________________\n",
            "dense_15 (Dense)             (None, 1)                 129       \n",
            "_________________________________________________________________\n",
            "activation_5 (Activation)    (None, 1)                 0         \n",
            "=================================================================\n",
            "Total params: 15,104,513\n",
            "Trainable params: 15,104,513\n",
            "Non-trainable params: 0\n",
            "_________________________________________________________________\n"
          ],
          "name": "stdout"
        },
        {
          "output_type": "display_data",
          "data": {
            "image/png": "[encoded data removed]",
            "text/plain": [
              "<Figure size 432x288 with 1 Axes>"
            ]
          },
          "metadata": {
            "tags": [],
            "needs_background": "light"
          }
        }
      ]
    },
    {
      "cell_type": "code",
      "metadata": {
        "colab": {
          "base_uri": "https://localhost:8080/"
        },
        "id": "QDmxhEah519n",
        "outputId": "a30c96c9-196c-4764-a195-31443438a216"
      },
      "source": [
        "# impact of N on the accuracy\n",
        "res_acc, res_n,res_ep=[[],[],[]]\n",
        "for n in range(2,int(max_words/2),3):\n",
        "  a,ep=my_model('Conv1D',300,32,n,64,\"\",10,100,0)\n",
        "  print(n)\n",
        "  res_acc.append(a)\n",
        "  res_n.append(n)\n",
        "  res_ep.append(ep)\n",
        "\n"
      ],
      "execution_count": null,
      "outputs": [
        {
          "output_type": "stream",
          "text": [
            "Epoch 1/10\n",
            "170/170 [==============================] - 58s 165ms/step - loss: 0.5791 - accuracy: 0.6860 - val_loss: 0.4789 - val_accuracy: 0.7706\n",
            "Epoch 2/10\n",
            "170/170 [==============================] - 27s 158ms/step - loss: 0.3886 - accuracy: 0.8274 - val_loss: 0.4615 - val_accuracy: 0.7835\n",
            "Epoch 3/10\n",
            "170/170 [==============================] - 27s 159ms/step - loss: 0.2584 - accuracy: 0.8959 - val_loss: 0.5029 - val_accuracy: 0.7861\n",
            "Epoch 4/10\n",
            "170/170 [==============================] - 27s 157ms/step - loss: 0.1607 - accuracy: 0.9400 - val_loss: 0.5672 - val_accuracy: 0.7802\n",
            "Epoch 5/10\n",
            "170/170 [==============================] - 27s 157ms/step - loss: 0.1030 - accuracy: 0.9615 - val_loss: 0.6500 - val_accuracy: 0.7837\n",
            "Epoch 6/10\n",
            "170/170 [==============================] - 27s 158ms/step - loss: 0.0687 - accuracy: 0.9746 - val_loss: 0.7337 - val_accuracy: 0.7722\n",
            "Epoch 7/10\n",
            "170/170 [==============================] - 27s 158ms/step - loss: 0.0508 - accuracy: 0.9792 - val_loss: 0.8004 - val_accuracy: 0.7729\n",
            "Epoch 8/10\n",
            "170/170 [==============================] - 27s 159ms/step - loss: 0.0413 - accuracy: 0.9820 - val_loss: 0.8995 - val_accuracy: 0.7654\n",
            "Epoch 9/10\n",
            "170/170 [==============================] - 27s 159ms/step - loss: 0.0362 - accuracy: 0.9843 - val_loss: 0.9284 - val_accuracy: 0.7670\n",
            "Epoch 10/10\n",
            "170/170 [==============================] - 27s 160ms/step - loss: 0.0339 - accuracy: 0.9862 - val_loss: 0.9521 - val_accuracy: 0.7703\n",
            "Epoch 1/10\n",
            "170/170 [==============================] - 29s 162ms/step - loss: 0.5937 - accuracy: 0.6645 - val_loss: 0.4744 - val_accuracy: 0.7762\n",
            "Epoch 2/10\n",
            "170/170 [==============================] - 27s 160ms/step - loss: 0.3886 - accuracy: 0.8254 - val_loss: 0.4659 - val_accuracy: 0.7797\n",
            "Epoch 3/10\n",
            "170/170 [==============================] - 27s 158ms/step - loss: 0.2353 - accuracy: 0.9066 - val_loss: 0.5291 - val_accuracy: 0.7750\n",
            "Epoch 4/10\n",
            "170/170 [==============================] - 27s 159ms/step - loss: 0.1334 - accuracy: 0.9527 - val_loss: 0.6295 - val_accuracy: 0.7680\n",
            "Epoch 5/10\n",
            "170/170 [==============================] - 27s 159ms/step - loss: 0.0798 - accuracy: 0.9697 - val_loss: 0.7158 - val_accuracy: 0.7637\n",
            "Epoch 6/10\n",
            "170/170 [==============================] - 27s 159ms/step - loss: 0.0532 - accuracy: 0.9784 - val_loss: 0.8111 - val_accuracy: 0.7614\n",
            "Epoch 7/10\n",
            "170/170 [==============================] - 27s 160ms/step - loss: 0.0409 - accuracy: 0.9830 - val_loss: 0.9014 - val_accuracy: 0.7621\n",
            "Epoch 8/10\n",
            "170/170 [==============================] - 27s 158ms/step - loss: 0.0340 - accuracy: 0.9850 - val_loss: 0.9601 - val_accuracy: 0.7569\n",
            "Epoch 9/10\n",
            "170/170 [==============================] - 27s 159ms/step - loss: 0.0312 - accuracy: 0.9859 - val_loss: 1.0221 - val_accuracy: 0.7569\n",
            "Epoch 10/10\n",
            "170/170 [==============================] - 27s 159ms/step - loss: 0.0263 - accuracy: 0.9873 - val_loss: 1.0911 - val_accuracy: 0.7611\n",
            "Epoch 1/10\n",
            "170/170 [==============================] - 29s 165ms/step - loss: 0.5883 - accuracy: 0.6692 - val_loss: 0.4856 - val_accuracy: 0.7595\n",
            "Epoch 2/10\n",
            "170/170 [==============================] - 27s 158ms/step - loss: 0.3749 - accuracy: 0.8339 - val_loss: 0.4746 - val_accuracy: 0.7755\n",
            "Epoch 3/10\n",
            "170/170 [==============================] - 27s 159ms/step - loss: 0.2196 - accuracy: 0.9165 - val_loss: 0.5216 - val_accuracy: 0.7750\n",
            "Epoch 4/10\n",
            "170/170 [==============================] - 27s 159ms/step - loss: 0.1239 - accuracy: 0.9552 - val_loss: 0.6120 - val_accuracy: 0.7736\n",
            "Epoch 5/10\n",
            "170/170 [==============================] - 27s 159ms/step - loss: 0.0724 - accuracy: 0.9721 - val_loss: 0.7132 - val_accuracy: 0.7677\n",
            "Epoch 6/10\n",
            "170/170 [==============================] - 27s 159ms/step - loss: 0.0506 - accuracy: 0.9794 - val_loss: 0.8140 - val_accuracy: 0.7736\n",
            "Epoch 7/10\n",
            "170/170 [==============================] - 27s 160ms/step - loss: 0.0397 - accuracy: 0.9831 - val_loss: 0.8913 - val_accuracy: 0.7595\n",
            "Epoch 8/10\n",
            "170/170 [==============================] - 27s 159ms/step - loss: 0.0324 - accuracy: 0.9855 - val_loss: 0.9498 - val_accuracy: 0.7736\n",
            "Epoch 9/10\n",
            "170/170 [==============================] - 27s 160ms/step - loss: 0.0295 - accuracy: 0.9875 - val_loss: 1.0035 - val_accuracy: 0.7706\n",
            "Epoch 10/10\n",
            "170/170 [==============================] - 27s 159ms/step - loss: 0.0282 - accuracy: 0.9865 - val_loss: 1.0781 - val_accuracy: 0.7642\n",
            "Epoch 1/10\n",
            "170/170 [==============================] - 29s 166ms/step - loss: 0.6076 - accuracy: 0.6437 - val_loss: 0.4971 - val_accuracy: 0.7567\n",
            "Epoch 2/10\n",
            "170/170 [==============================] - 27s 161ms/step - loss: 0.3871 - accuracy: 0.8268 - val_loss: 0.4707 - val_accuracy: 0.7795\n",
            "Epoch 3/10\n",
            "170/170 [==============================] - 27s 162ms/step - loss: 0.2316 - accuracy: 0.9088 - val_loss: 0.5112 - val_accuracy: 0.7710\n",
            "Epoch 4/10\n",
            "170/170 [==============================] - 27s 160ms/step - loss: 0.1290 - accuracy: 0.9532 - val_loss: 0.5985 - val_accuracy: 0.7706\n",
            "Epoch 5/10\n",
            "170/170 [==============================] - 28s 163ms/step - loss: 0.0788 - accuracy: 0.9707 - val_loss: 0.7110 - val_accuracy: 0.7635\n",
            "Epoch 6/10\n",
            "170/170 [==============================] - 27s 161ms/step - loss: 0.0560 - accuracy: 0.9777 - val_loss: 0.7966 - val_accuracy: 0.7665\n",
            "Epoch 7/10\n",
            "170/170 [==============================] - 27s 160ms/step - loss: 0.0428 - accuracy: 0.9816 - val_loss: 0.8517 - val_accuracy: 0.7642\n",
            "Epoch 8/10\n",
            "170/170 [==============================] - 27s 160ms/step - loss: 0.0365 - accuracy: 0.9841 - val_loss: 0.9287 - val_accuracy: 0.7628\n",
            "Epoch 9/10\n",
            "170/170 [==============================] - 28s 162ms/step - loss: 0.0335 - accuracy: 0.9836 - val_loss: 0.9849 - val_accuracy: 0.7588\n",
            "Epoch 10/10\n",
            "170/170 [==============================] - 27s 160ms/step - loss: 0.0300 - accuracy: 0.9859 - val_loss: 1.0465 - val_accuracy: 0.7651\n",
            "Epoch 1/10\n",
            "170/170 [==============================] - 30s 168ms/step - loss: 0.6089 - accuracy: 0.6436 - val_loss: 0.4963 - val_accuracy: 0.7595\n",
            "Epoch 2/10\n",
            "170/170 [==============================] - 27s 158ms/step - loss: 0.3925 - accuracy: 0.8254 - val_loss: 0.4755 - val_accuracy: 0.7769\n",
            "Epoch 3/10\n",
            "170/170 [==============================] - 27s 159ms/step - loss: 0.2247 - accuracy: 0.9121 - val_loss: 0.5117 - val_accuracy: 0.7727\n",
            "Epoch 4/10\n",
            "170/170 [==============================] - 27s 161ms/step - loss: 0.1214 - accuracy: 0.9544 - val_loss: 0.6312 - val_accuracy: 0.7734\n",
            "Epoch 5/10\n",
            "170/170 [==============================] - 27s 160ms/step - loss: 0.0721 - accuracy: 0.9720 - val_loss: 0.7074 - val_accuracy: 0.7675\n",
            "Epoch 6/10\n",
            "170/170 [==============================] - 27s 159ms/step - loss: 0.0509 - accuracy: 0.9804 - val_loss: 0.7921 - val_accuracy: 0.7647\n",
            "Epoch 7/10\n",
            "170/170 [==============================] - 27s 160ms/step - loss: 0.0406 - accuracy: 0.9812 - val_loss: 0.8918 - val_accuracy: 0.7691\n",
            "Epoch 8/10\n",
            "170/170 [==============================] - 27s 159ms/step - loss: 0.0328 - accuracy: 0.9852 - val_loss: 0.9687 - val_accuracy: 0.7665\n",
            "Epoch 9/10\n",
            "170/170 [==============================] - 27s 161ms/step - loss: 0.0297 - accuracy: 0.9866 - val_loss: 1.0615 - val_accuracy: 0.7670\n",
            "Epoch 10/10\n",
            "170/170 [==============================] - 27s 159ms/step - loss: 0.0293 - accuracy: 0.9859 - val_loss: 1.0594 - val_accuracy: 0.7611\n",
            "Epoch 1/10\n",
            "170/170 [==============================] - 29s 164ms/step - loss: 0.6222 - accuracy: 0.6246 - val_loss: 0.4986 - val_accuracy: 0.7545\n",
            "Epoch 2/10\n",
            "170/170 [==============================] - 27s 159ms/step - loss: 0.3962 - accuracy: 0.8220 - val_loss: 0.4658 - val_accuracy: 0.7821\n",
            "Epoch 3/10\n",
            "170/170 [==============================] - 27s 160ms/step - loss: 0.2388 - accuracy: 0.9047 - val_loss: 0.5161 - val_accuracy: 0.7750\n",
            "Epoch 4/10\n",
            "170/170 [==============================] - 27s 160ms/step - loss: 0.1383 - accuracy: 0.9467 - val_loss: 0.6099 - val_accuracy: 0.7720\n",
            "Epoch 5/10\n",
            "170/170 [==============================] - 27s 161ms/step - loss: 0.0841 - accuracy: 0.9675 - val_loss: 0.7095 - val_accuracy: 0.7687\n",
            "Epoch 6/10\n",
            "170/170 [==============================] - 27s 161ms/step - loss: 0.0617 - accuracy: 0.9746 - val_loss: 0.8095 - val_accuracy: 0.7633\n",
            "Epoch 7/10\n",
            "170/170 [==============================] - 27s 159ms/step - loss: 0.0459 - accuracy: 0.9795 - val_loss: 0.9384 - val_accuracy: 0.7642\n",
            "Epoch 8/10\n",
            "170/170 [==============================] - 27s 162ms/step - loss: 0.0395 - accuracy: 0.9817 - val_loss: 0.9884 - val_accuracy: 0.7581\n",
            "Epoch 9/10\n",
            "170/170 [==============================] - 27s 160ms/step - loss: 0.0338 - accuracy: 0.9840 - val_loss: 1.0815 - val_accuracy: 0.7628\n",
            "Epoch 10/10\n",
            "170/170 [==============================] - 27s 160ms/step - loss: 0.0297 - accuracy: 0.9855 - val_loss: 1.1139 - val_accuracy: 0.7595\n",
            "Epoch 1/10\n",
            "170/170 [==============================] - 29s 166ms/step - loss: 0.6121 - accuracy: 0.6344 - val_loss: 0.4839 - val_accuracy: 0.7656\n",
            "Epoch 2/10\n",
            "170/170 [==============================] - 28s 162ms/step - loss: 0.3858 - accuracy: 0.8263 - val_loss: 0.4658 - val_accuracy: 0.7781\n",
            "Epoch 3/10\n",
            "170/170 [==============================] - 28s 162ms/step - loss: 0.2258 - accuracy: 0.9087 - val_loss: 0.5317 - val_accuracy: 0.7802\n",
            "Epoch 4/10\n",
            "170/170 [==============================] - 28s 162ms/step - loss: 0.1294 - accuracy: 0.9498 - val_loss: 0.6073 - val_accuracy: 0.7696\n",
            "Epoch 5/10\n",
            "170/170 [==============================] - 27s 162ms/step - loss: 0.0856 - accuracy: 0.9670 - val_loss: 0.6881 - val_accuracy: 0.7715\n",
            "Epoch 6/10\n",
            "170/170 [==============================] - 28s 162ms/step - loss: 0.0602 - accuracy: 0.9750 - val_loss: 0.8185 - val_accuracy: 0.7663\n",
            "Epoch 7/10\n",
            "170/170 [==============================] - 28s 162ms/step - loss: 0.0489 - accuracy: 0.9787 - val_loss: 0.9057 - val_accuracy: 0.7649\n",
            "Epoch 8/10\n",
            "170/170 [==============================] - 27s 161ms/step - loss: 0.0402 - accuracy: 0.9830 - val_loss: 0.9901 - val_accuracy: 0.7555\n",
            "Epoch 9/10\n",
            "170/170 [==============================] - 27s 160ms/step - loss: 0.0358 - accuracy: 0.9830 - val_loss: 1.0380 - val_accuracy: 0.7635\n",
            "Epoch 10/10\n",
            "170/170 [==============================] - 27s 162ms/step - loss: 0.0320 - accuracy: 0.9853 - val_loss: 1.0908 - val_accuracy: 0.7651\n",
            "Epoch 1/10\n",
            "170/170 [==============================] - 29s 167ms/step - loss: 0.6356 - accuracy: 0.6066 - val_loss: 0.5053 - val_accuracy: 0.7416\n",
            "Epoch 2/10\n",
            "170/170 [==============================] - 27s 160ms/step - loss: 0.4064 - accuracy: 0.8157 - val_loss: 0.4643 - val_accuracy: 0.7786\n",
            "Epoch 3/10\n",
            "170/170 [==============================] - 27s 161ms/step - loss: 0.2393 - accuracy: 0.9035 - val_loss: 0.5265 - val_accuracy: 0.7743\n",
            "Epoch 4/10\n",
            "170/170 [==============================] - 27s 162ms/step - loss: 0.1374 - accuracy: 0.9468 - val_loss: 0.6134 - val_accuracy: 0.7713\n",
            "Epoch 5/10\n",
            "170/170 [==============================] - 27s 160ms/step - loss: 0.0857 - accuracy: 0.9665 - val_loss: 0.7147 - val_accuracy: 0.7731\n",
            "Epoch 6/10\n",
            "170/170 [==============================] - 27s 161ms/step - loss: 0.0593 - accuracy: 0.9754 - val_loss: 0.8212 - val_accuracy: 0.7684\n",
            "Epoch 7/10\n",
            "170/170 [==============================] - 27s 160ms/step - loss: 0.0462 - accuracy: 0.9809 - val_loss: 0.9054 - val_accuracy: 0.7630\n",
            "Epoch 8/10\n",
            "170/170 [==============================] - 27s 161ms/step - loss: 0.0376 - accuracy: 0.9843 - val_loss: 1.0089 - val_accuracy: 0.7623\n",
            "Epoch 9/10\n",
            "170/170 [==============================] - 27s 162ms/step - loss: 0.0323 - accuracy: 0.9849 - val_loss: 1.0753 - val_accuracy: 0.7571\n",
            "Epoch 10/10\n",
            "170/170 [==============================] - 28s 162ms/step - loss: 0.0293 - accuracy: 0.9872 - val_loss: 1.1364 - val_accuracy: 0.7541\n",
            "Epoch 1/10\n",
            "170/170 [==============================] - 29s 166ms/step - loss: 0.6274 - accuracy: 0.6168 - val_loss: 0.4880 - val_accuracy: 0.7630\n",
            "Epoch 2/10\n",
            "170/170 [==============================] - 28s 163ms/step - loss: 0.3969 - accuracy: 0.8191 - val_loss: 0.4802 - val_accuracy: 0.7724\n",
            "Epoch 3/10\n",
            "170/170 [==============================] - 28s 163ms/step - loss: 0.2327 - accuracy: 0.9069 - val_loss: 0.5257 - val_accuracy: 0.7776\n",
            "Epoch 4/10\n",
            "170/170 [==============================] - 27s 161ms/step - loss: 0.1339 - accuracy: 0.9486 - val_loss: 0.5969 - val_accuracy: 0.7767\n",
            "Epoch 5/10\n",
            "170/170 [==============================] - 28s 164ms/step - loss: 0.0864 - accuracy: 0.9663 - val_loss: 0.6894 - val_accuracy: 0.7710\n",
            "Epoch 6/10\n",
            "170/170 [==============================] - 27s 161ms/step - loss: 0.0604 - accuracy: 0.9751 - val_loss: 0.7852 - val_accuracy: 0.7708\n",
            "Epoch 7/10\n",
            "170/170 [==============================] - 28s 162ms/step - loss: 0.0477 - accuracy: 0.9796 - val_loss: 0.9284 - val_accuracy: 0.7597\n",
            "Epoch 8/10\n",
            "170/170 [==============================] - 28s 165ms/step - loss: 0.0397 - accuracy: 0.9818 - val_loss: 1.0024 - val_accuracy: 0.7630\n",
            "Epoch 9/10\n",
            "170/170 [==============================] - 28s 166ms/step - loss: 0.0328 - accuracy: 0.9846 - val_loss: 1.0508 - val_accuracy: 0.7647\n",
            "Epoch 10/10\n",
            "170/170 [==============================] - 28s 162ms/step - loss: 0.0302 - accuracy: 0.9854 - val_loss: 1.1013 - val_accuracy: 0.7600\n",
            "Epoch 1/10\n",
            "170/170 [==============================] - 30s 170ms/step - loss: 0.6352 - accuracy: 0.6060 - val_loss: 0.5142 - val_accuracy: 0.7392\n",
            "Epoch 2/10\n",
            "170/170 [==============================] - 27s 161ms/step - loss: 0.4040 - accuracy: 0.8164 - val_loss: 0.4641 - val_accuracy: 0.7790\n",
            "Epoch 3/10\n",
            "170/170 [==============================] - 27s 162ms/step - loss: 0.2386 - accuracy: 0.9037 - val_loss: 0.5251 - val_accuracy: 0.7708\n",
            "Epoch 4/10\n",
            "170/170 [==============================] - 27s 162ms/step - loss: 0.1373 - accuracy: 0.9470 - val_loss: 0.5957 - val_accuracy: 0.7661\n",
            "Epoch 5/10\n",
            "170/170 [==============================] - 27s 161ms/step - loss: 0.0842 - accuracy: 0.9655 - val_loss: 0.7117 - val_accuracy: 0.7696\n",
            "Epoch 6/10\n",
            "170/170 [==============================] - 27s 161ms/step - loss: 0.0595 - accuracy: 0.9744 - val_loss: 0.8079 - val_accuracy: 0.7555\n",
            "Epoch 7/10\n",
            "170/170 [==============================] - 27s 160ms/step - loss: 0.0442 - accuracy: 0.9798 - val_loss: 0.8925 - val_accuracy: 0.7621\n",
            "Epoch 8/10\n",
            "170/170 [==============================] - 28s 163ms/step - loss: 0.0375 - accuracy: 0.9836 - val_loss: 1.0044 - val_accuracy: 0.7640\n",
            "Epoch 9/10\n",
            "170/170 [==============================] - 27s 162ms/step - loss: 0.0322 - accuracy: 0.9843 - val_loss: 1.0691 - val_accuracy: 0.7501\n",
            "Epoch 10/10\n",
            "170/170 [==============================] - 27s 161ms/step - loss: 0.0308 - accuracy: 0.9847 - val_loss: 1.1396 - val_accuracy: 0.7590\n",
            "Epoch 1/10\n",
            "170/170 [==============================] - 29s 165ms/step - loss: 0.6282 - accuracy: 0.6194 - val_loss: 0.4939 - val_accuracy: 0.7569\n",
            "Epoch 2/10\n",
            "170/170 [==============================] - 27s 160ms/step - loss: 0.3978 - accuracy: 0.8207 - val_loss: 0.4656 - val_accuracy: 0.7797\n",
            "Epoch 3/10\n",
            "170/170 [==============================] - 27s 160ms/step - loss: 0.2291 - accuracy: 0.9065 - val_loss: 0.5306 - val_accuracy: 0.7757\n",
            "Epoch 4/10\n",
            "170/170 [==============================] - 27s 162ms/step - loss: 0.1361 - accuracy: 0.9463 - val_loss: 0.6051 - val_accuracy: 0.7694\n",
            "Epoch 5/10\n",
            "170/170 [==============================] - 27s 161ms/step - loss: 0.0867 - accuracy: 0.9654 - val_loss: 0.7272 - val_accuracy: 0.7644\n",
            "Epoch 6/10\n",
            "170/170 [==============================] - 28s 162ms/step - loss: 0.0640 - accuracy: 0.9730 - val_loss: 0.7935 - val_accuracy: 0.7680\n",
            "Epoch 7/10\n",
            "170/170 [==============================] - 28s 162ms/step - loss: 0.0490 - accuracy: 0.9787 - val_loss: 0.9040 - val_accuracy: 0.7651\n",
            "Epoch 8/10\n",
            "170/170 [==============================] - 28s 164ms/step - loss: 0.0400 - accuracy: 0.9825 - val_loss: 0.9736 - val_accuracy: 0.7614\n",
            "Epoch 9/10\n",
            "170/170 [==============================] - 28s 162ms/step - loss: 0.0333 - accuracy: 0.9841 - val_loss: 1.0880 - val_accuracy: 0.7633\n",
            "Epoch 10/10\n",
            "170/170 [==============================] - 28s 162ms/step - loss: 0.0303 - accuracy: 0.9850 - val_loss: 1.1248 - val_accuracy: 0.7611\n"
          ],
          "name": "stdout"
        }
      ]
    },
    {
      "cell_type": "code",
      "metadata": {
        "colab": {
          "base_uri": "https://localhost:8080/",
          "height": 296
        },
        "id": "QPhPCh5c7ews",
        "outputId": "38fbcd5b-eec3-453e-e0f9-1cd33d3498dc"
      },
      "source": [
        "res_acc=np.array(res_acc)\n",
        "res_n=np.array(res_n)\n",
        "res_ep=np.array(res_ep)\n",
        "plt.plot(res_n,res_acc,'r-')\n",
        "#plt.plot(res_n,res_ep,'b-')\n",
        "plt.xlabel('N-Gram')\n",
        "plt.ylabel('Accuracy')\n",
        "\n"
      ],
      "execution_count": null,
      "outputs": [
        {
          "output_type": "execute_result",
          "data": {
            "text/plain": [
              "Text(0, 0.5, 'Accurac')"
            ]
          },
          "metadata": {
            "tags": []
          },
          "execution_count": 14
        },
        {
          "output_type": "display_data",
          "data": {
            "image/png": "[encoded data removed]",
            "text/plain": [
              "<Figure size 432x288 with 1 Axes>"
            ]
          },
          "metadata": {
            "tags": [],
            "needs_background": "light"
          }
        }
      ]
    },
    {
      "cell_type": "code",
      "metadata": {
        "colab": {
          "base_uri": "https://localhost:8080/",
          "height": 1000
        },
        "id": "SsmSmc42PNsJ",
        "outputId": "db9fb222-03bd-4fb0-f6ae-3fc3b61c4498"
      },
      "source": [
        "my_model('Conv1D',300,32,[2,3,16],64,\"\",10,100,1)"
      ],
      "execution_count": null,
      "outputs": [
        {
          "output_type": "stream",
          "text": [
            "Epoch 1/10\n",
            "170/170 [==============================] - 32s 177ms/step - loss: 0.5807 - accuracy: 0.6735 - val_loss: 0.4658 - val_accuracy: 0.7788\n",
            "Epoch 2/10\n",
            "170/170 [==============================] - 29s 170ms/step - loss: 0.3643 - accuracy: 0.8407 - val_loss: 0.4614 - val_accuracy: 0.7866\n",
            "Epoch 3/10\n",
            "170/170 [==============================] - 29s 171ms/step - loss: 0.2119 - accuracy: 0.9169 - val_loss: 0.5198 - val_accuracy: 0.7863\n",
            "Epoch 4/10\n",
            "170/170 [==============================] - 29s 169ms/step - loss: 0.1157 - accuracy: 0.9562 - val_loss: 0.6397 - val_accuracy: 0.7762\n",
            "Epoch 5/10\n",
            "170/170 [==============================] - 29s 170ms/step - loss: 0.0714 - accuracy: 0.9731 - val_loss: 0.7032 - val_accuracy: 0.7762\n",
            "Epoch 6/10\n",
            "170/170 [==============================] - 29s 171ms/step - loss: 0.0494 - accuracy: 0.9798 - val_loss: 0.8129 - val_accuracy: 0.7760\n",
            "Epoch 7/10\n",
            "170/170 [==============================] - 29s 169ms/step - loss: 0.0376 - accuracy: 0.9845 - val_loss: 0.8779 - val_accuracy: 0.7757\n",
            "Epoch 8/10\n",
            "170/170 [==============================] - 29s 171ms/step - loss: 0.0319 - accuracy: 0.9857 - val_loss: 0.9438 - val_accuracy: 0.7736\n",
            "Epoch 9/10\n",
            "170/170 [==============================] - 29s 168ms/step - loss: 0.0275 - accuracy: 0.9875 - val_loss: 1.0165 - val_accuracy: 0.7708\n",
            "Epoch 10/10\n",
            "170/170 [==============================] - 29s 171ms/step - loss: 0.0270 - accuracy: 0.9876 - val_loss: 1.1088 - val_accuracy: 0.7729\n",
            "Model: \"model_16\"\n",
            "__________________________________________________________________________________________________\n",
            "Layer (type)                    Output Shape         Param #     Connected to                     \n",
            "==================================================================================================\n",
            "sentence (InputLayer)           [(None, 66)]         0                                            \n",
            "__________________________________________________________________________________________________\n",
            "embedding_16 (Embedding)        (None, 66, 300)      15000000    sentence[0][0]                   \n",
            "__________________________________________________________________________________________________\n",
            "dropout_16 (Dropout)            (None, 66, 300)      0           embedding_16[0][0]               \n",
            "__________________________________________________________________________________________________\n",
            "conv1d_26 (Conv1D)              (None, 65, 32)       19232       dropout_16[0][0]                 \n",
            "__________________________________________________________________________________________________\n",
            "conv1d_27 (Conv1D)              (None, 64, 32)       28832       dropout_16[0][0]                 \n",
            "__________________________________________________________________________________________________\n",
            "conv1d_28 (Conv1D)              (None, 51, 32)       153632      dropout_16[0][0]                 \n",
            "__________________________________________________________________________________________________\n",
            "global_max_pooling1d_26 (Global (None, 32)           0           conv1d_26[0][0]                  \n",
            "__________________________________________________________________________________________________\n",
            "global_max_pooling1d_27 (Global (None, 32)           0           conv1d_27[0][0]                  \n",
            "__________________________________________________________________________________________________\n",
            "global_max_pooling1d_28 (Global (None, 32)           0           conv1d_28[0][0]                  \n",
            "__________________________________________________________________________________________________\n",
            "concatenate_16 (Concatenate)    (None, 96)           0           global_max_pooling1d_26[0][0]    \n",
            "                                                                 global_max_pooling1d_27[0][0]    \n",
            "                                                                 global_max_pooling1d_28[0][0]    \n",
            "__________________________________________________________________________________________________\n",
            "dense_32 (Dense)                (None, 64)           6208        concatenate_16[0][0]             \n",
            "__________________________________________________________________________________________________\n",
            "activation_32 (Activation)      (None, 64)           0           dense_32[0][0]                   \n",
            "__________________________________________________________________________________________________\n",
            "dense_33 (Dense)                (None, 1)            65          activation_32[0][0]              \n",
            "__________________________________________________________________________________________________\n",
            "activation_33 (Activation)      (None, 1)            0           dense_33[0][0]                   \n",
            "==================================================================================================\n",
            "Total params: 15,207,969\n",
            "Trainable params: 15,207,969\n",
            "Non-trainable params: 0\n",
            "__________________________________________________________________________________________________\n"
          ],
          "name": "stdout"
        },
        {
          "output_type": "display_data",
          "data": {
            "image/png": "[encoded data removed]",
            "text/plain": [
              "<Figure size 432x288 with 1 Axes>"
            ]
          },
          "metadata": {
            "tags": [],
            "needs_background": "light"
          }
        }
      ]
    },
    {
      "cell_type": "markdown",
      "metadata": {
        "id": "NRP8nR_SX29M"
      },
      "source": [
        "**Results and Conclusion**\n",
        "1.   RNN has the best accuracy but takes the longest time. CNN has the second best result but saves much more time. \n",
        "2.   In such large dataset, it is easy to over fit, we can use droupout to do L1, L2 regularization. \n",
        "3.   How to Vectorize? Because Chinese word vector pre-trained the vectorization, so it sets the embedding layer as non-training, therefore expand the dimention of CNN model, increase the accuracy. And this model is less likely to be overfit. \n",
        "4.   In general Chinese segementation is much harder than english segmentation due to \n",
        "\n",
        ">a. Chinese does not have the blank\n",
        "\n",
        ">b. The granuality of the Chinese matters. For example: \n",
        "\n",
        "          1. 南京市长江大桥欢迎您 \n",
        "\n",
        "          2. 南京/市长/江大桥/欢迎/您\n",
        "            City Nanjing's governor Mr.Jiang Welcomes you\n",
        "          3. 南京市/长江/大桥/欢迎/您\n",
        "             City Nanjing's Changjiang Bridge Welcomes you\n",
        "\n",
        ">c. Trending new words/slang can also influence the accuracy \n",
        "\n",
        "           1. some new words/slang: 因吹丝挺、城会玩、厉害了word哥、emmmmm、扎心了老铁\n",
        "           2. some sound similiar word: 碉堡\n",
        "           3. special words: 寡姐、美队、荷兰弟\n",
        "\n",
        "localized tokenizer will filter out these words for regarding them as stopwords; chinese word vectors will filter out these words because it does not have these words in its dict. \n",
        "5.  Next step: add some special keywords that mentioned above to the jieba dictionary. ( jieba.load_userdict(file_name))"
      ]
    },
    {
      "cell_type": "code",
      "metadata": {
        "id": "BivD2Q6Fdvlz"
      },
      "source": [
        ""
      ],
      "execution_count": null,
      "outputs": []
    }
  ]
}